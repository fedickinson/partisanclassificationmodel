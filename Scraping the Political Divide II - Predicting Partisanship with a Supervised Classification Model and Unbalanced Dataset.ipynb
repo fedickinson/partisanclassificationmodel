{
 "cells": [
  {
   "cell_type": "markdown",
   "metadata": {},
   "source": [
    "#  1) The Data"
   ]
  },
  {
   "cell_type": "markdown",
   "metadata": {},
   "source": [
    "### import packages"
   ]
  },
  {
   "cell_type": "code",
   "execution_count": 1,
   "metadata": {},
   "outputs": [],
   "source": [
    "import matplotlib.pyplot as plt\n",
    "%matplotlib inline  \n",
    "\n",
    "import pandas as pd\n",
    "import numpy as np\n",
    "import scipy as sp\n",
    "import seaborn as sns"
   ]
  },
  {
   "cell_type": "markdown",
   "metadata": {},
   "source": [
    "### import scraped data"
   ]
  },
  {
   "cell_type": "code",
   "execution_count": 2,
   "metadata": {},
   "outputs": [
    {
     "data": {
      "text/plain": [
       "(251125, 8)"
      ]
     },
     "execution_count": 2,
     "metadata": {},
     "output_type": "execute_result"
    }
   ],
   "source": [
    "forum = pd.read_csv(\"forum.csv\")\n",
    "forum.drop_duplicates(inplace=True)\n",
    "forum.shape"
   ]
  },
  {
   "cell_type": "markdown",
   "metadata": {},
   "source": [
    "### text data pre-processing"
   ]
  },
  {
   "cell_type": "code",
   "execution_count": 3,
   "metadata": {},
   "outputs": [],
   "source": [
    "forum['postDateTime'] = forum['postDateTime'].str.strip()\n"
   ]
  },
  {
   "cell_type": "code",
   "execution_count": 4,
   "metadata": {},
   "outputs": [],
   "source": [
    "# create function to filter out rows with non-standard datetime format\n",
    "\n",
    "def filterBasedOnText(df, feature, ListOfText):\n",
    "    for text in ListOfText:\n",
    "        textFilter = df[feature].str.contains(text)\n",
    "        df = df[~textFilter]\n",
    "    return df"
   ]
  },
  {
   "cell_type": "code",
   "execution_count": 5,
   "metadata": {},
   "outputs": [],
   "source": [
    "nonStandardDateTimeList = ['minutes ago', 'Yesterday', 'Today']\n",
    "\n",
    "forum = filterBasedOnText(forum, 'postDateTime', nonStandardDateTimeList)"
   ]
  },
  {
   "cell_type": "code",
   "execution_count": 6,
   "metadata": {},
   "outputs": [
    {
     "data": {
      "text/plain": [
       "(250730, 8)"
      ]
     },
     "execution_count": 6,
     "metadata": {},
     "output_type": "execute_result"
    }
   ],
   "source": [
    "forum.shape"
   ]
  },
  {
   "cell_type": "code",
   "execution_count": 7,
   "metadata": {},
   "outputs": [],
   "source": [
    "# keep only posts from Jan 1, 2016 onwards\n",
    "\n",
    "forum['postDateTime'] = pd.to_datetime(forum['postDateTime'], format='%d %b %Y, %I:%M %p')\n",
    "forum = forum[forum['postDateTime'] >= pd.datetime(2016, 1, 1)]"
   ]
  },
  {
   "cell_type": "code",
   "execution_count": 8,
   "metadata": {},
   "outputs": [],
   "source": [
    "#clean userPolitics field\n",
    "forum['userPolitics'] = forum['userPolitics'].replace(\"<bound method SelectorList.extract of \\[<Selector xpath='div\\[3\\]\\/div\\[2\\]\\/a\\[2\\]\\/text\\(\\)' data='\",'', regex=True)\n",
    "\n",
    "forum['userPolitics'] = forum['userPolitics'].str.extract(r\"data=' (\\w+)\\\\n\")"
   ]
  },
  {
   "cell_type": "code",
   "execution_count": 9,
   "metadata": {},
   "outputs": [
    {
     "data": {
      "text/html": [
       "<div>\n",
       "<style scoped>\n",
       "    .dataframe tbody tr th:only-of-type {\n",
       "        vertical-align: middle;\n",
       "    }\n",
       "\n",
       "    .dataframe tbody tr th {\n",
       "        vertical-align: top;\n",
       "    }\n",
       "\n",
       "    .dataframe thead th {\n",
       "        text-align: right;\n",
       "    }\n",
       "</style>\n",
       "<table border=\"1\" class=\"dataframe\">\n",
       "  <thead>\n",
       "    <tr style=\"text-align: right;\">\n",
       "      <th></th>\n",
       "      <th>postDateTime</th>\n",
       "      <th>postText</th>\n",
       "      <th>threadReplies</th>\n",
       "      <th>threadTitle</th>\n",
       "      <th>userMoney</th>\n",
       "      <th>userName</th>\n",
       "      <th>userPolitics</th>\n",
       "      <th>userPosts</th>\n",
       "      <th>sLeftRight</th>\n",
       "    </tr>\n",
       "  </thead>\n",
       "  <tbody>\n",
       "    <tr>\n",
       "      <th>15</th>\n",
       "      <td>2016-01-02 18:24:00</td>\n",
       "      <td>\\n\\n                        \\n                ...</td>\n",
       "      <td>5 replies to this topic</td>\n",
       "      <td>Do you think Trump will ever mention the horri...</td>\n",
       "      <td>325.98</td>\n",
       "      <td>xxxxxxx</td>\n",
       "      <td>Revolutionary</td>\n",
       "      <td>16,928</td>\n",
       "      <td></td>\n",
       "    </tr>\n",
       "    <tr>\n",
       "      <th>16</th>\n",
       "      <td>2016-01-02 18:49:00</td>\n",
       "      <td>\\n\\n                        \\n                ...</td>\n",
       "      <td>5 replies to this topic</td>\n",
       "      <td>Do you think Trump will ever mention the horri...</td>\n",
       "      <td>7,036.96</td>\n",
       "      <td>TotallyRad</td>\n",
       "      <td>Liberal</td>\n",
       "      <td>9,903</td>\n",
       "      <td>Liberal</td>\n",
       "    </tr>\n",
       "    <tr>\n",
       "      <th>17</th>\n",
       "      <td>2016-01-02 19:48:00</td>\n",
       "      <td>\\n\\n                        \\n                ...</td>\n",
       "      <td>5 replies to this topic</td>\n",
       "      <td>Do you think Trump will ever mention the horri...</td>\n",
       "      <td>325.98</td>\n",
       "      <td>xxxxxxx</td>\n",
       "      <td>Revolutionary</td>\n",
       "      <td>16,928</td>\n",
       "      <td></td>\n",
       "    </tr>\n",
       "    <tr>\n",
       "      <th>18</th>\n",
       "      <td>2016-01-02 20:29:00</td>\n",
       "      <td>\\n\\n                        \\n                ...</td>\n",
       "      <td>5 replies to this topic</td>\n",
       "      <td>Do you think Trump will ever mention the horri...</td>\n",
       "      <td>7,036.96</td>\n",
       "      <td>TotallyRad</td>\n",
       "      <td>Liberal</td>\n",
       "      <td>9,903</td>\n",
       "      <td>Liberal</td>\n",
       "    </tr>\n",
       "    <tr>\n",
       "      <th>19</th>\n",
       "      <td>2016-01-02 22:23:00</td>\n",
       "      <td>\\n\\n                        \\n                ...</td>\n",
       "      <td>5 replies to this topic</td>\n",
       "      <td>Do you think Trump will ever mention the horri...</td>\n",
       "      <td>325.98</td>\n",
       "      <td>xxxxxxx</td>\n",
       "      <td>Revolutionary</td>\n",
       "      <td>16,928</td>\n",
       "      <td></td>\n",
       "    </tr>\n",
       "  </tbody>\n",
       "</table>\n",
       "</div>"
      ],
      "text/plain": [
       "          postDateTime                                           postText  \\\n",
       "15 2016-01-02 18:24:00  \\n\\n                        \\n                ...   \n",
       "16 2016-01-02 18:49:00  \\n\\n                        \\n                ...   \n",
       "17 2016-01-02 19:48:00  \\n\\n                        \\n                ...   \n",
       "18 2016-01-02 20:29:00  \\n\\n                        \\n                ...   \n",
       "19 2016-01-02 22:23:00  \\n\\n                        \\n                ...   \n",
       "\n",
       "              threadReplies  \\\n",
       "15  5 replies to this topic   \n",
       "16  5 replies to this topic   \n",
       "17  5 replies to this topic   \n",
       "18  5 replies to this topic   \n",
       "19  5 replies to this topic   \n",
       "\n",
       "                                          threadTitle userMoney    userName  \\\n",
       "15  Do you think Trump will ever mention the horri...    325.98     xxxxxxx   \n",
       "16  Do you think Trump will ever mention the horri...  7,036.96  TotallyRad   \n",
       "17  Do you think Trump will ever mention the horri...    325.98     xxxxxxx   \n",
       "18  Do you think Trump will ever mention the horri...  7,036.96  TotallyRad   \n",
       "19  Do you think Trump will ever mention the horri...    325.98     xxxxxxx   \n",
       "\n",
       "     userPolitics userPosts sLeftRight  \n",
       "15  Revolutionary    16,928             \n",
       "16        Liberal     9,903    Liberal  \n",
       "17  Revolutionary    16,928             \n",
       "18        Liberal     9,903    Liberal  \n",
       "19  Revolutionary    16,928             "
      ]
     },
     "execution_count": 9,
     "metadata": {},
     "output_type": "execute_result"
    }
   ],
   "source": [
    "#categorize political ideology with 'sLeftRight'\n",
    "forum['sLeftRight'] = ''\n",
    "\n",
    "forum.loc[forum['userPolitics'].isin(['Conservative','Republican','Libertarian','Capitalist']), 'sLeftRight'] = 'Conservative'\n",
    "\n",
    "forum.loc[forum['userPolitics'].isin(['Liberal','Progressive','Socialist','Democratic','Anarchist','Green']), 'sLeftRight'] = 'Liberal' \n",
    "\n",
    "forum.head()"
   ]
  },
  {
   "cell_type": "code",
   "execution_count": 10,
   "metadata": {},
   "outputs": [],
   "source": [
    "#clean post text data\n",
    "forum['postText'] = forum['postText'].str.strip()\n",
    "forum['postText'] = forum['postText'].replace('\\n','', regex=True)\n",
    "forum['postText'] = forum['postText'].replace('^,','', regex=True)\n",
    "forum['postText'] = forum['postText'].str.strip()\n",
    "forum['postText'] = forum['postText'].replace('^,','', regex=True)\n",
    "forum['postText'] = forum['postText'].replace('^\\s+','', regex=True)"
   ]
  },
  {
   "cell_type": "code",
   "execution_count": 11,
   "metadata": {},
   "outputs": [],
   "source": [
    "forum['postText'] = forum['postText'].str.replace(r\"[\\.\\,\\?\\!\\<\\>\\=\\+\\-\\{\\}\\[\\]\\\"\\']\",'')"
   ]
  },
  {
   "cell_type": "markdown",
   "metadata": {},
   "source": [
    "# 1A) limit number of Posts per User"
   ]
  },
  {
   "cell_type": "markdown",
   "metadata": {},
   "source": [
    "### isolate text and output columns for modeling"
   ]
  },
  {
   "cell_type": "code",
   "execution_count": 12,
   "metadata": {},
   "outputs": [],
   "source": [
    "# isolate only text and output label in new df: forum_model\n",
    "forum_model = forum[['userName','postText','sLeftRight']]\n",
    "forum_model = forum_model[(forum_model['sLeftRight'] == 'Conservative') | (forum_model['sLeftRight'] == 'Liberal')]\n",
    "\n",
    "# convert classes to binary for later perfomance measure operations\n",
    "forum_model['sLeftRight'] = np.where(forum_model['sLeftRight'] == 'Conservative', 0, 1)\n"
   ]
  },
  {
   "cell_type": "code",
   "execution_count": 13,
   "metadata": {},
   "outputs": [
    {
     "data": {
      "text/plain": [
       "0    98160\n",
       "1    15139\n",
       "Name: sLeftRight, dtype: int64"
      ]
     },
     "execution_count": 13,
     "metadata": {},
     "output_type": "execute_result"
    }
   ],
   "source": [
    "forum_model['sLeftRight'].value_counts()"
   ]
  },
  {
   "cell_type": "code",
   "execution_count": 14,
   "metadata": {},
   "outputs": [],
   "source": [
    "userPosts_df = forum_model.groupby([\"sLeftRight\",\"userName\"]).agg({\"postText\":\"count\"})"
   ]
  },
  {
   "cell_type": "code",
   "execution_count": 15,
   "metadata": {},
   "outputs": [],
   "source": [
    "userPosts_df20 = userPosts_df.sort_values(by=[\"postText\"],ascending=False).head(20)"
   ]
  },
  {
   "cell_type": "code",
   "execution_count": 16,
   "metadata": {},
   "outputs": [],
   "source": [
    "userPosts_df20 = userPosts_df20.reset_index()"
   ]
  },
  {
   "cell_type": "code",
   "execution_count": 17,
   "metadata": {},
   "outputs": [
    {
     "data": {
      "text/html": [
       "<div>\n",
       "<style scoped>\n",
       "    .dataframe tbody tr th:only-of-type {\n",
       "        vertical-align: middle;\n",
       "    }\n",
       "\n",
       "    .dataframe tbody tr th {\n",
       "        vertical-align: top;\n",
       "    }\n",
       "\n",
       "    .dataframe thead th {\n",
       "        text-align: right;\n",
       "    }\n",
       "</style>\n",
       "<table border=\"1\" class=\"dataframe\">\n",
       "  <thead>\n",
       "    <tr style=\"text-align: right;\">\n",
       "      <th></th>\n",
       "      <th>sLeftRight</th>\n",
       "      <th>userName</th>\n",
       "      <th>postText</th>\n",
       "    </tr>\n",
       "  </thead>\n",
       "  <tbody>\n",
       "    <tr>\n",
       "      <th>0</th>\n",
       "      <td>0</td>\n",
       "      <td>roadkill</td>\n",
       "      <td>30628</td>\n",
       "    </tr>\n",
       "    <tr>\n",
       "      <th>1</th>\n",
       "      <td>0</td>\n",
       "      <td>Bigsky</td>\n",
       "      <td>13349</td>\n",
       "    </tr>\n",
       "    <tr>\n",
       "      <th>2</th>\n",
       "      <td>0</td>\n",
       "      <td>Str8tEdge</td>\n",
       "      <td>8537</td>\n",
       "    </tr>\n",
       "    <tr>\n",
       "      <th>3</th>\n",
       "      <td>0</td>\n",
       "      <td>crimsongulf</td>\n",
       "      <td>8488</td>\n",
       "    </tr>\n",
       "    <tr>\n",
       "      <th>4</th>\n",
       "      <td>0</td>\n",
       "      <td>Termin8tor</td>\n",
       "      <td>8408</td>\n",
       "    </tr>\n",
       "    <tr>\n",
       "      <th>5</th>\n",
       "      <td>0</td>\n",
       "      <td>golfboy</td>\n",
       "      <td>5356</td>\n",
       "    </tr>\n",
       "    <tr>\n",
       "      <th>6</th>\n",
       "      <td>0</td>\n",
       "      <td>Sgt Bilko</td>\n",
       "      <td>5302</td>\n",
       "    </tr>\n",
       "    <tr>\n",
       "      <th>7</th>\n",
       "      <td>0</td>\n",
       "      <td>NeoConvict</td>\n",
       "      <td>4828</td>\n",
       "    </tr>\n",
       "    <tr>\n",
       "      <th>8</th>\n",
       "      <td>1</td>\n",
       "      <td>onlyaladd</td>\n",
       "      <td>3410</td>\n",
       "    </tr>\n",
       "    <tr>\n",
       "      <th>9</th>\n",
       "      <td>1</td>\n",
       "      <td>Henry_</td>\n",
       "      <td>2423</td>\n",
       "    </tr>\n",
       "    <tr>\n",
       "      <th>10</th>\n",
       "      <td>1</td>\n",
       "      <td>Annoyed Liberall</td>\n",
       "      <td>2305</td>\n",
       "    </tr>\n",
       "    <tr>\n",
       "      <th>11</th>\n",
       "      <td>0</td>\n",
       "      <td>larryc12</td>\n",
       "      <td>2087</td>\n",
       "    </tr>\n",
       "    <tr>\n",
       "      <th>12</th>\n",
       "      <td>0</td>\n",
       "      <td>Tiger</td>\n",
       "      <td>1945</td>\n",
       "    </tr>\n",
       "    <tr>\n",
       "      <th>13</th>\n",
       "      <td>0</td>\n",
       "      <td>Redrock</td>\n",
       "      <td>1518</td>\n",
       "    </tr>\n",
       "    <tr>\n",
       "      <th>14</th>\n",
       "      <td>1</td>\n",
       "      <td>greatnpowerfuloz</td>\n",
       "      <td>1505</td>\n",
       "    </tr>\n",
       "    <tr>\n",
       "      <th>15</th>\n",
       "      <td>0</td>\n",
       "      <td>Vegas</td>\n",
       "      <td>1381</td>\n",
       "    </tr>\n",
       "    <tr>\n",
       "      <th>16</th>\n",
       "      <td>0</td>\n",
       "      <td>Fuelman</td>\n",
       "      <td>1041</td>\n",
       "    </tr>\n",
       "    <tr>\n",
       "      <th>17</th>\n",
       "      <td>1</td>\n",
       "      <td>justrying</td>\n",
       "      <td>1031</td>\n",
       "    </tr>\n",
       "    <tr>\n",
       "      <th>18</th>\n",
       "      <td>0</td>\n",
       "      <td>Kobia2</td>\n",
       "      <td>1008</td>\n",
       "    </tr>\n",
       "    <tr>\n",
       "      <th>19</th>\n",
       "      <td>1</td>\n",
       "      <td>bingster</td>\n",
       "      <td>974</td>\n",
       "    </tr>\n",
       "  </tbody>\n",
       "</table>\n",
       "</div>"
      ],
      "text/plain": [
       "    sLeftRight          userName  postText\n",
       "0            0          roadkill     30628\n",
       "1            0            Bigsky     13349\n",
       "2            0         Str8tEdge      8537\n",
       "3            0       crimsongulf      8488\n",
       "4            0        Termin8tor      8408\n",
       "5            0           golfboy      5356\n",
       "6            0         Sgt Bilko      5302\n",
       "7            0        NeoConvict      4828\n",
       "8            1         onlyaladd      3410\n",
       "9            1            Henry_      2423\n",
       "10           1  Annoyed Liberall      2305\n",
       "11           0          larryc12      2087\n",
       "12           0             Tiger      1945\n",
       "13           0           Redrock      1518\n",
       "14           1  greatnpowerfuloz      1505\n",
       "15           0             Vegas      1381\n",
       "16           0           Fuelman      1041\n",
       "17           1         justrying      1031\n",
       "18           0            Kobia2      1008\n",
       "19           1          bingster       974"
      ]
     },
     "execution_count": 17,
     "metadata": {},
     "output_type": "execute_result"
    }
   ],
   "source": [
    "userPosts_df20"
   ]
  },
  {
   "cell_type": "code",
   "execution_count": 18,
   "metadata": {},
   "outputs": [],
   "source": [
    "custom_palette = []\n",
    "\n",
    "for index, row in userPosts_df20.iterrows():\n",
    "    if row['sLeftRight'] == 0:\n",
    "        custom_palette.append('indianred')\n",
    "    else:\n",
    "        custom_palette.append('royalblue')"
   ]
  },
  {
   "cell_type": "code",
   "execution_count": 19,
   "metadata": {},
   "outputs": [
    {
     "name": "stderr",
     "output_type": "stream",
     "text": [
      "/Users/franklindickinson/anaconda3/lib/python3.6/site-packages/seaborn/categorical.py:1460: FutureWarning: remove_na is deprecated and is a private function. Do not use.\n",
      "  stat_data = remove_na(group_data)\n"
     ]
    },
    {
     "data": {
      "image/png": "[encoded data removed]",
      "text/plain": [
       "<matplotlib.figure.Figure at 0x1a1e5238d0>"
      ]
     },
     "metadata": {},
     "output_type": "display_data"
    }
   ],
   "source": [
    "userPosts_df20_barplot = sns.barplot(x=\"userName\", y='postText', data=userPosts_df20,palette=custom_palette)\n",
    "\n",
    "for item in userPosts_df20_barplot.get_xticklabels():\n",
    "    item.set_rotation(65)"
   ]
  },
  {
   "cell_type": "code",
   "execution_count": 20,
   "metadata": {},
   "outputs": [],
   "source": [
    "avgPost_perIdeology = userPosts_df.groupby([\"sLeftRight\"]).agg({\"postText\":\"mean\"})"
   ]
  },
  {
   "cell_type": "code",
   "execution_count": 21,
   "metadata": {},
   "outputs": [],
   "source": [
    "avgPost_perIdeology = avgPost_perIdeology.reset_index()"
   ]
  },
  {
   "cell_type": "code",
   "execution_count": 22,
   "metadata": {},
   "outputs": [],
   "source": [
    "avgPost_perIdeology['sLeftRight'] = np.where(avgPost_perIdeology['sLeftRight'] == 0, \"Conservative\", \"Liberal\")"
   ]
  },
  {
   "cell_type": "code",
   "execution_count": 23,
   "metadata": {},
   "outputs": [
    {
     "data": {
      "text/html": [
       "<div>\n",
       "<style scoped>\n",
       "    .dataframe tbody tr th:only-of-type {\n",
       "        vertical-align: middle;\n",
       "    }\n",
       "\n",
       "    .dataframe tbody tr th {\n",
       "        vertical-align: top;\n",
       "    }\n",
       "\n",
       "    .dataframe thead th {\n",
       "        text-align: right;\n",
       "    }\n",
       "</style>\n",
       "<table border=\"1\" class=\"dataframe\">\n",
       "  <thead>\n",
       "    <tr style=\"text-align: right;\">\n",
       "      <th></th>\n",
       "      <th>sLeftRight</th>\n",
       "      <th>postText</th>\n",
       "    </tr>\n",
       "  </thead>\n",
       "  <tbody>\n",
       "    <tr>\n",
       "      <th>0</th>\n",
       "      <td>Conservative</td>\n",
       "      <td>1924.705882</td>\n",
       "    </tr>\n",
       "    <tr>\n",
       "      <th>1</th>\n",
       "      <td>Liberal</td>\n",
       "      <td>296.843137</td>\n",
       "    </tr>\n",
       "  </tbody>\n",
       "</table>\n",
       "</div>"
      ],
      "text/plain": [
       "     sLeftRight     postText\n",
       "0  Conservative  1924.705882\n",
       "1       Liberal   296.843137"
      ]
     },
     "execution_count": 23,
     "metadata": {},
     "output_type": "execute_result"
    }
   ],
   "source": [
    "avgPost_perIdeology"
   ]
  },
  {
   "cell_type": "code",
   "execution_count": 24,
   "metadata": {},
   "outputs": [
    {
     "name": "stderr",
     "output_type": "stream",
     "text": [
      "/Users/franklindickinson/anaconda3/lib/python3.6/site-packages/seaborn/categorical.py:1460: FutureWarning: remove_na is deprecated and is a private function. Do not use.\n",
      "  stat_data = remove_na(group_data)\n"
     ]
    },
    {
     "data": {
      "text/plain": [
       "(0, 2000)"
      ]
     },
     "execution_count": 24,
     "metadata": {},
     "output_type": "execute_result"
    },
    {
     "data": {
      "image/png": "[encoded data removed]",
      "text/plain": [
       "<matplotlib.figure.Figure at 0x1a192d1940>"
      ]
     },
     "metadata": {},
     "output_type": "display_data"
    }
   ],
   "source": [
    "sns.set_style('whitegrid')\n",
    "sns.barplot(x=avgPost_perIdeology['sLeftRight'],\n",
    "            y=avgPost_perIdeology['postText'],\n",
    "            palette = ['royalblue','indianred'], order=[\"Liberal\",\"Conservative\"], saturation=1)\n",
    "\n",
    "\n",
    "plt.title('Average Posts per User - Breakdown by Ideology')\n",
    "plt.xlabel('')\n",
    "plt.ylabel('Average Posts per User')\n",
    "\n",
    "plt.ylim((0,2000))"
   ]
  },
  {
   "cell_type": "code",
   "execution_count": 25,
   "metadata": {},
   "outputs": [],
   "source": [
    "# randomly select posts from convservative user such that no conservative user has more posts than the top liberal use\n"
   ]
  },
  {
   "cell_type": "code",
   "execution_count": 26,
   "metadata": {},
   "outputs": [],
   "source": [
    "topUserPosts_df = userPosts_df.sort_values(by=['sLeftRight',\"postText\"],ascending=False)"
   ]
  },
  {
   "cell_type": "code",
   "execution_count": 27,
   "metadata": {},
   "outputs": [],
   "source": [
    "topLiberalPost = topUserPosts_df.head(1)['postText'][0]"
   ]
  },
  {
   "cell_type": "code",
   "execution_count": 28,
   "metadata": {},
   "outputs": [
    {
     "data": {
      "text/plain": [
       "3410"
      ]
     },
     "execution_count": 28,
     "metadata": {},
     "output_type": "execute_result"
    }
   ],
   "source": [
    "topLiberalPost"
   ]
  },
  {
   "cell_type": "code",
   "execution_count": 29,
   "metadata": {},
   "outputs": [],
   "source": [
    "userPosts_df = userPosts_df.reset_index()"
   ]
  },
  {
   "cell_type": "code",
   "execution_count": 30,
   "metadata": {},
   "outputs": [
    {
     "data": {
      "text/html": [
       "<div>\n",
       "<style scoped>\n",
       "    .dataframe tbody tr th:only-of-type {\n",
       "        vertical-align: middle;\n",
       "    }\n",
       "\n",
       "    .dataframe tbody tr th {\n",
       "        vertical-align: top;\n",
       "    }\n",
       "\n",
       "    .dataframe thead th {\n",
       "        text-align: right;\n",
       "    }\n",
       "</style>\n",
       "<table border=\"1\" class=\"dataframe\">\n",
       "  <thead>\n",
       "    <tr style=\"text-align: right;\">\n",
       "      <th></th>\n",
       "      <th>sLeftRight</th>\n",
       "      <th>userName</th>\n",
       "      <th>postText</th>\n",
       "    </tr>\n",
       "  </thead>\n",
       "  <tbody>\n",
       "    <tr>\n",
       "      <th>0</th>\n",
       "      <td>0</td>\n",
       "      <td>123SMARTERTHANYOU</td>\n",
       "      <td>2</td>\n",
       "    </tr>\n",
       "    <tr>\n",
       "      <th>1</th>\n",
       "      <td>0</td>\n",
       "      <td>AnonymousExposer</td>\n",
       "      <td>1</td>\n",
       "    </tr>\n",
       "    <tr>\n",
       "      <th>2</th>\n",
       "      <td>0</td>\n",
       "      <td>Balance</td>\n",
       "      <td>2</td>\n",
       "    </tr>\n",
       "    <tr>\n",
       "      <th>3</th>\n",
       "      <td>0</td>\n",
       "      <td>Bigsky</td>\n",
       "      <td>13349</td>\n",
       "    </tr>\n",
       "    <tr>\n",
       "      <th>4</th>\n",
       "      <td>0</td>\n",
       "      <td>Donald Trump</td>\n",
       "      <td>14</td>\n",
       "    </tr>\n",
       "  </tbody>\n",
       "</table>\n",
       "</div>"
      ],
      "text/plain": [
       "   sLeftRight           userName  postText\n",
       "0           0  123SMARTERTHANYOU         2\n",
       "1           0   AnonymousExposer         1\n",
       "2           0            Balance         2\n",
       "3           0             Bigsky     13349\n",
       "4           0       Donald Trump        14"
      ]
     },
     "execution_count": 30,
     "metadata": {},
     "output_type": "execute_result"
    }
   ],
   "source": [
    "userPosts_df.head()"
   ]
  },
  {
   "cell_type": "code",
   "execution_count": 31,
   "metadata": {},
   "outputs": [],
   "source": [
    "topConservativePosters = list(userPosts_df[(userPosts_df['sLeftRight'] == 0) & (userPosts_df['postText'] > topLiberalPost)]['userName'])"
   ]
  },
  {
   "cell_type": "code",
   "execution_count": 32,
   "metadata": {},
   "outputs": [
    {
     "data": {
      "text/plain": [
       "['Bigsky',\n",
       " 'NeoConvict',\n",
       " 'Sgt Bilko',\n",
       " 'Str8tEdge',\n",
       " 'Termin8tor',\n",
       " 'crimsongulf',\n",
       " 'golfboy',\n",
       " 'roadkill']"
      ]
     },
     "execution_count": 32,
     "metadata": {},
     "output_type": "execute_result"
    }
   ],
   "source": [
    "topConservativePosters"
   ]
  },
  {
   "cell_type": "code",
   "execution_count": 33,
   "metadata": {},
   "outputs": [],
   "source": [
    "forum_dontSample = forum_model[~forum_model[\"userName\"].isin(topConservativePosters)]"
   ]
  },
  {
   "cell_type": "code",
   "execution_count": 34,
   "metadata": {},
   "outputs": [
    {
     "data": {
      "text/plain": [
       "1    15139\n",
       "0    13264\n",
       "Name: sLeftRight, dtype: int64"
      ]
     },
     "execution_count": 34,
     "metadata": {},
     "output_type": "execute_result"
    }
   ],
   "source": [
    "forum_dontSample['sLeftRight'].value_counts()"
   ]
  },
  {
   "cell_type": "code",
   "execution_count": 35,
   "metadata": {},
   "outputs": [],
   "source": [
    "for poster in topConservativePosters:\n",
    "    forumPoster_sample = forum_model[forum_model['userName'] == poster].sample(n=topLiberalPost)\n",
    "    forum_dontSample = forum_dontSample.append(forumPoster_sample, ignore_index=True)"
   ]
  },
  {
   "cell_type": "code",
   "execution_count": 36,
   "metadata": {},
   "outputs": [
    {
     "data": {
      "text/plain": [
       "0    40544\n",
       "1    15139\n",
       "Name: sLeftRight, dtype: int64"
      ]
     },
     "execution_count": 36,
     "metadata": {},
     "output_type": "execute_result"
    }
   ],
   "source": [
    "forum_dontSample['sLeftRight'].value_counts()"
   ]
  },
  {
   "cell_type": "code",
   "execution_count": 37,
   "metadata": {},
   "outputs": [],
   "source": [
    "forum_model = forum_dontSample"
   ]
  },
  {
   "cell_type": "code",
   "execution_count": 38,
   "metadata": {},
   "outputs": [],
   "source": [
    "userPosts_df = forum_model.groupby([\"sLeftRight\",\"userName\"]).agg({\"postText\":\"count\"})"
   ]
  },
  {
   "cell_type": "code",
   "execution_count": 39,
   "metadata": {},
   "outputs": [],
   "source": [
    "avgPost_perIdeology = userPosts_df.groupby([\"sLeftRight\"]).agg({\"postText\":\"mean\"})"
   ]
  },
  {
   "cell_type": "code",
   "execution_count": 40,
   "metadata": {},
   "outputs": [],
   "source": [
    "avgPost_perIdeology = avgPost_perIdeology.reset_index()"
   ]
  },
  {
   "cell_type": "code",
   "execution_count": 41,
   "metadata": {},
   "outputs": [],
   "source": [
    "avgPost_perIdeology['sLeftRight'] = np.where(avgPost_perIdeology['sLeftRight'] == 0, \"Conservative\", \"Liberal\")"
   ]
  },
  {
   "cell_type": "code",
   "execution_count": 42,
   "metadata": {},
   "outputs": [
    {
     "data": {
      "text/html": [
       "<div>\n",
       "<style scoped>\n",
       "    .dataframe tbody tr th:only-of-type {\n",
       "        vertical-align: middle;\n",
       "    }\n",
       "\n",
       "    .dataframe tbody tr th {\n",
       "        vertical-align: top;\n",
       "    }\n",
       "\n",
       "    .dataframe thead th {\n",
       "        text-align: right;\n",
       "    }\n",
       "</style>\n",
       "<table border=\"1\" class=\"dataframe\">\n",
       "  <thead>\n",
       "    <tr style=\"text-align: right;\">\n",
       "      <th></th>\n",
       "      <th>sLeftRight</th>\n",
       "      <th>postText</th>\n",
       "    </tr>\n",
       "  </thead>\n",
       "  <tbody>\n",
       "    <tr>\n",
       "      <th>0</th>\n",
       "      <td>Conservative</td>\n",
       "      <td>794.980392</td>\n",
       "    </tr>\n",
       "    <tr>\n",
       "      <th>1</th>\n",
       "      <td>Liberal</td>\n",
       "      <td>296.843137</td>\n",
       "    </tr>\n",
       "  </tbody>\n",
       "</table>\n",
       "</div>"
      ],
      "text/plain": [
       "     sLeftRight    postText\n",
       "0  Conservative  794.980392\n",
       "1       Liberal  296.843137"
      ]
     },
     "execution_count": 42,
     "metadata": {},
     "output_type": "execute_result"
    }
   ],
   "source": [
    "avgPost_perIdeology"
   ]
  },
  {
   "cell_type": "code",
   "execution_count": 43,
   "metadata": {},
   "outputs": [],
   "source": [
    "userPosts_df = forum_model.groupby([\"sLeftRight\",\"userName\"]).agg({\"postText\":\"count\"})"
   ]
  },
  {
   "cell_type": "code",
   "execution_count": 44,
   "metadata": {},
   "outputs": [],
   "source": [
    "userPosts_df20 = userPosts_df.sort_values(by=[\"postText\"],ascending=False).head(20)"
   ]
  },
  {
   "cell_type": "code",
   "execution_count": 45,
   "metadata": {},
   "outputs": [],
   "source": [
    "userPosts_df20 = userPosts_df20.reset_index()"
   ]
  },
  {
   "cell_type": "code",
   "execution_count": 46,
   "metadata": {},
   "outputs": [
    {
     "data": {
      "text/html": [
       "<div>\n",
       "<style scoped>\n",
       "    .dataframe tbody tr th:only-of-type {\n",
       "        vertical-align: middle;\n",
       "    }\n",
       "\n",
       "    .dataframe tbody tr th {\n",
       "        vertical-align: top;\n",
       "    }\n",
       "\n",
       "    .dataframe thead th {\n",
       "        text-align: right;\n",
       "    }\n",
       "</style>\n",
       "<table border=\"1\" class=\"dataframe\">\n",
       "  <thead>\n",
       "    <tr style=\"text-align: right;\">\n",
       "      <th></th>\n",
       "      <th>sLeftRight</th>\n",
       "      <th>userName</th>\n",
       "      <th>postText</th>\n",
       "    </tr>\n",
       "  </thead>\n",
       "  <tbody>\n",
       "    <tr>\n",
       "      <th>0</th>\n",
       "      <td>0</td>\n",
       "      <td>Str8tEdge</td>\n",
       "      <td>3410</td>\n",
       "    </tr>\n",
       "    <tr>\n",
       "      <th>1</th>\n",
       "      <td>0</td>\n",
       "      <td>NeoConvict</td>\n",
       "      <td>3410</td>\n",
       "    </tr>\n",
       "    <tr>\n",
       "      <th>2</th>\n",
       "      <td>0</td>\n",
       "      <td>Bigsky</td>\n",
       "      <td>3410</td>\n",
       "    </tr>\n",
       "    <tr>\n",
       "      <th>3</th>\n",
       "      <td>0</td>\n",
       "      <td>golfboy</td>\n",
       "      <td>3410</td>\n",
       "    </tr>\n",
       "    <tr>\n",
       "      <th>4</th>\n",
       "      <td>0</td>\n",
       "      <td>crimsongulf</td>\n",
       "      <td>3410</td>\n",
       "    </tr>\n",
       "    <tr>\n",
       "      <th>5</th>\n",
       "      <td>1</td>\n",
       "      <td>onlyaladd</td>\n",
       "      <td>3410</td>\n",
       "    </tr>\n",
       "    <tr>\n",
       "      <th>6</th>\n",
       "      <td>0</td>\n",
       "      <td>Termin8tor</td>\n",
       "      <td>3410</td>\n",
       "    </tr>\n",
       "    <tr>\n",
       "      <th>7</th>\n",
       "      <td>0</td>\n",
       "      <td>roadkill</td>\n",
       "      <td>3410</td>\n",
       "    </tr>\n",
       "    <tr>\n",
       "      <th>8</th>\n",
       "      <td>0</td>\n",
       "      <td>Sgt Bilko</td>\n",
       "      <td>3410</td>\n",
       "    </tr>\n",
       "    <tr>\n",
       "      <th>9</th>\n",
       "      <td>1</td>\n",
       "      <td>Henry_</td>\n",
       "      <td>2423</td>\n",
       "    </tr>\n",
       "    <tr>\n",
       "      <th>10</th>\n",
       "      <td>1</td>\n",
       "      <td>Annoyed Liberall</td>\n",
       "      <td>2305</td>\n",
       "    </tr>\n",
       "    <tr>\n",
       "      <th>11</th>\n",
       "      <td>0</td>\n",
       "      <td>larryc12</td>\n",
       "      <td>2087</td>\n",
       "    </tr>\n",
       "    <tr>\n",
       "      <th>12</th>\n",
       "      <td>0</td>\n",
       "      <td>Tiger</td>\n",
       "      <td>1945</td>\n",
       "    </tr>\n",
       "    <tr>\n",
       "      <th>13</th>\n",
       "      <td>0</td>\n",
       "      <td>Redrock</td>\n",
       "      <td>1518</td>\n",
       "    </tr>\n",
       "    <tr>\n",
       "      <th>14</th>\n",
       "      <td>1</td>\n",
       "      <td>greatnpowerfuloz</td>\n",
       "      <td>1505</td>\n",
       "    </tr>\n",
       "    <tr>\n",
       "      <th>15</th>\n",
       "      <td>0</td>\n",
       "      <td>Vegas</td>\n",
       "      <td>1381</td>\n",
       "    </tr>\n",
       "    <tr>\n",
       "      <th>16</th>\n",
       "      <td>0</td>\n",
       "      <td>Fuelman</td>\n",
       "      <td>1041</td>\n",
       "    </tr>\n",
       "    <tr>\n",
       "      <th>17</th>\n",
       "      <td>1</td>\n",
       "      <td>justrying</td>\n",
       "      <td>1031</td>\n",
       "    </tr>\n",
       "    <tr>\n",
       "      <th>18</th>\n",
       "      <td>0</td>\n",
       "      <td>Kobia2</td>\n",
       "      <td>1008</td>\n",
       "    </tr>\n",
       "    <tr>\n",
       "      <th>19</th>\n",
       "      <td>1</td>\n",
       "      <td>bingster</td>\n",
       "      <td>974</td>\n",
       "    </tr>\n",
       "  </tbody>\n",
       "</table>\n",
       "</div>"
      ],
      "text/plain": [
       "    sLeftRight          userName  postText\n",
       "0            0         Str8tEdge      3410\n",
       "1            0        NeoConvict      3410\n",
       "2            0            Bigsky      3410\n",
       "3            0           golfboy      3410\n",
       "4            0       crimsongulf      3410\n",
       "5            1         onlyaladd      3410\n",
       "6            0        Termin8tor      3410\n",
       "7            0          roadkill      3410\n",
       "8            0         Sgt Bilko      3410\n",
       "9            1            Henry_      2423\n",
       "10           1  Annoyed Liberall      2305\n",
       "11           0          larryc12      2087\n",
       "12           0             Tiger      1945\n",
       "13           0           Redrock      1518\n",
       "14           1  greatnpowerfuloz      1505\n",
       "15           0             Vegas      1381\n",
       "16           0           Fuelman      1041\n",
       "17           1         justrying      1031\n",
       "18           0            Kobia2      1008\n",
       "19           1          bingster       974"
      ]
     },
     "execution_count": 46,
     "metadata": {},
     "output_type": "execute_result"
    }
   ],
   "source": [
    "userPosts_df20"
   ]
  },
  {
   "cell_type": "code",
   "execution_count": 47,
   "metadata": {},
   "outputs": [
    {
     "name": "stderr",
     "output_type": "stream",
     "text": [
      "/Users/franklindickinson/anaconda3/lib/python3.6/site-packages/seaborn/categorical.py:1460: FutureWarning: remove_na is deprecated and is a private function. Do not use.\n",
      "  stat_data = remove_na(group_data)\n"
     ]
    },
    {
     "data": {
      "text/plain": [
       "(0, 32000)"
      ]
     },
     "execution_count": 47,
     "metadata": {},
     "output_type": "execute_result"
    },
    {
     "data": {
      "image/png": "[encoded data removed]",
      "text/plain": [
       "<matplotlib.figure.Figure at 0x1a12f6f5f8>"
      ]
     },
     "metadata": {},
     "output_type": "display_data"
    }
   ],
   "source": [
    "userPosts_df20_barplot = sns.barplot(x=\"userName\", y='postText', data=userPosts_df20,palette=custom_palette)\n",
    "\n",
    "for item in userPosts_df20_barplot.get_xticklabels():\n",
    "    item.set_rotation(65)\n",
    "    \n",
    "plt.ylim((0,32000))"
   ]
  },
  {
   "cell_type": "code",
   "execution_count": 48,
   "metadata": {},
   "outputs": [
    {
     "name": "stderr",
     "output_type": "stream",
     "text": [
      "/Users/franklindickinson/anaconda3/lib/python3.6/site-packages/seaborn/categorical.py:1460: FutureWarning: remove_na is deprecated and is a private function. Do not use.\n",
      "  stat_data = remove_na(group_data)\n"
     ]
    },
    {
     "data": {
      "text/plain": [
       "(0, 2000)"
      ]
     },
     "execution_count": 48,
     "metadata": {},
     "output_type": "execute_result"
    },
    {
     "data": {
      "image/png": "[encoded data removed]",
      "text/plain": [
       "<matplotlib.figure.Figure at 0x1a205f3a90>"
      ]
     },
     "metadata": {},
     "output_type": "display_data"
    }
   ],
   "source": [
    "sns.set_style('whitegrid')\n",
    "sns.barplot(x=avgPost_perIdeology['sLeftRight'],\n",
    "            y=avgPost_perIdeology['postText'],\n",
    "            palette = ['royalblue','indianred'], order=[\"Liberal\",\"Conservative\"], saturation=1)\n",
    "\n",
    "\n",
    "plt.title('Average Posts per User - Breakdown by Ideology')\n",
    "plt.xlabel('')\n",
    "plt.ylabel('Average Posts per user')\n",
    "plt.ylim((0,2000))\n"
   ]
  },
  {
   "cell_type": "markdown",
   "metadata": {},
   "source": [
    "# 2) Building a Baseline"
   ]
  },
  {
   "cell_type": "code",
   "execution_count": 49,
   "metadata": {},
   "outputs": [
    {
     "data": {
      "text/plain": [
       "0    40544\n",
       "1    15139\n",
       "Name: sLeftRight, dtype: int64"
      ]
     },
     "execution_count": 49,
     "metadata": {},
     "output_type": "execute_result"
    }
   ],
   "source": [
    "forum_model['sLeftRight'].value_counts()"
   ]
  },
  {
   "cell_type": "markdown",
   "metadata": {},
   "source": [
    "### train test split"
   ]
  },
  {
   "cell_type": "code",
   "execution_count": 50,
   "metadata": {},
   "outputs": [],
   "source": [
    "from sklearn.model_selection import train_test_split\n",
    "\n",
    "X_train, X_test, y_train, y_test = train_test_split(forum_model['postText'], \n",
    "                                                    forum_model['sLeftRight'], \n",
    "                                                    stratify=forum_model['sLeftRight'],\n",
    "                                                    test_size=0.33,\n",
    "                                                    random_state=42)"
   ]
  },
  {
   "cell_type": "code",
   "execution_count": 51,
   "metadata": {},
   "outputs": [
    {
     "data": {
      "text/plain": [
       "0    27164\n",
       "1    10143\n",
       "Name: sLeftRight, dtype: int64"
      ]
     },
     "execution_count": 51,
     "metadata": {},
     "output_type": "execute_result"
    }
   ],
   "source": [
    "y_train.value_counts()"
   ]
  },
  {
   "cell_type": "code",
   "execution_count": 52,
   "metadata": {},
   "outputs": [
    {
     "data": {
      "text/plain": [
       "0    13380\n",
       "1     4996\n",
       "Name: sLeftRight, dtype: int64"
      ]
     },
     "execution_count": 52,
     "metadata": {},
     "output_type": "execute_result"
    }
   ],
   "source": [
    "y_test.value_counts()"
   ]
  },
  {
   "cell_type": "markdown",
   "metadata": {},
   "source": [
    "### buildinng a pipeline with CountVectorizer() and TfdifTransformer() & baseline models"
   ]
  },
  {
   "cell_type": "code",
   "execution_count": 53,
   "metadata": {},
   "outputs": [],
   "source": [
    "from sklearn.pipeline import Pipeline\n",
    "\n",
    "from sklearn.feature_extraction.text import CountVectorizer\n",
    "from sklearn.feature_extraction.text import TfidfTransformer"
   ]
  },
  {
   "cell_type": "code",
   "execution_count": 54,
   "metadata": {},
   "outputs": [],
   "source": [
    "from sklearn.naive_bayes import MultinomialNB\n",
    "from sklearn.linear_model import LogisticRegression"
   ]
  },
  {
   "cell_type": "code",
   "execution_count": 55,
   "metadata": {},
   "outputs": [],
   "source": [
    "# create model pipelines\n",
    "text_mnb = Pipeline([('vect',CountVectorizer()),\n",
    "                    ('tfidf', TfidfTransformer()),\n",
    "                    ('mnb', MultinomialNB())])\n",
    "\n",
    "text_logr = Pipeline([('vect',CountVectorizer()),\n",
    "                    ('tfidf', TfidfTransformer()),\n",
    "                    ('log', LogisticRegression())])"
   ]
  },
  {
   "cell_type": "code",
   "execution_count": 56,
   "metadata": {},
   "outputs": [],
   "source": [
    "# fit models\n",
    "text_mnb = text_mnb.fit(X_train, y_train)\n",
    "\n",
    "text_logr = text_logr.fit(X_train, y_train)"
   ]
  },
  {
   "cell_type": "code",
   "execution_count": 57,
   "metadata": {},
   "outputs": [],
   "source": [
    "### evaluate with cross_val_score accuracy\n",
    "from sklearn.model_selection import cross_val_score"
   ]
  },
  {
   "cell_type": "code",
   "execution_count": 58,
   "metadata": {},
   "outputs": [
    {
     "data": {
      "text/plain": [
       "array([0.73657124, 0.7362496 , 0.73590671])"
      ]
     },
     "execution_count": 58,
     "metadata": {},
     "output_type": "execute_result"
    }
   ],
   "source": [
    "cross_val_score(text_mnb, X_train, y_train, cv=3, scoring=\"accuracy\")"
   ]
  },
  {
   "cell_type": "code",
   "execution_count": 59,
   "metadata": {},
   "outputs": [
    {
     "data": {
      "text/plain": [
       "array([0.76913799, 0.76656481, 0.76622437])"
      ]
     },
     "execution_count": 59,
     "metadata": {},
     "output_type": "execute_result"
    }
   ],
   "source": [
    "cross_val_score(text_logr, X_train, y_train, cv=3, scoring=\"accuracy\")"
   ]
  },
  {
   "cell_type": "code",
   "execution_count": 60,
   "metadata": {},
   "outputs": [],
   "source": [
    "### evaluate with confusion matrix\n",
    "from sklearn.metrics import accuracy_score,confusion_matrix, precision_score, recall_score, f1_score"
   ]
  },
  {
   "cell_type": "code",
   "execution_count": 61,
   "metadata": {},
   "outputs": [
    {
     "data": {
      "text/html": [
       "<div>\n",
       "<style scoped>\n",
       "    .dataframe tbody tr th:only-of-type {\n",
       "        vertical-align: middle;\n",
       "    }\n",
       "\n",
       "    .dataframe tbody tr th {\n",
       "        vertical-align: top;\n",
       "    }\n",
       "\n",
       "    .dataframe thead th {\n",
       "        text-align: right;\n",
       "    }\n",
       "</style>\n",
       "<table border=\"1\" class=\"dataframe\">\n",
       "  <thead>\n",
       "    <tr style=\"text-align: right;\">\n",
       "      <th></th>\n",
       "      <th>Predict: 0</th>\n",
       "      <th>Predict: 1</th>\n",
       "    </tr>\n",
       "  </thead>\n",
       "  <tbody>\n",
       "    <tr>\n",
       "      <th>Actual: 0</th>\n",
       "      <td>TN</td>\n",
       "      <td>FP</td>\n",
       "    </tr>\n",
       "    <tr>\n",
       "      <th>Actual: 1</th>\n",
       "      <td>FN</td>\n",
       "      <td>TP</td>\n",
       "    </tr>\n",
       "  </tbody>\n",
       "</table>\n",
       "</div>"
      ],
      "text/plain": [
       "          Predict: 0 Predict: 1\n",
       "Actual: 0         TN         FP\n",
       "Actual: 1         FN         TP"
      ]
     },
     "execution_count": 61,
     "metadata": {},
     "output_type": "execute_result"
    }
   ],
   "source": [
    "matrixValues = {\"Predict: 0\" : [\"TN\",\"FN\"],\"Predict: 1\":[\"FP\",\"TP\"]}\n",
    "confusionMatrix = pd.DataFrame(matrixValues,index=[\"Actual: 0\", \"Actual: 1\"])\n",
    "confusionMatrix"
   ]
  },
  {
   "cell_type": "code",
   "execution_count": 62,
   "metadata": {},
   "outputs": [],
   "source": [
    "from sklearn.model_selection import cross_val_predict"
   ]
  },
  {
   "cell_type": "code",
   "execution_count": 63,
   "metadata": {},
   "outputs": [],
   "source": [
    "y_train_pred_mnb = cross_val_predict(text_mnb, X_train, y_train, cv=3)\n",
    "\n",
    "y_train_pred_logr = cross_val_predict(text_logr, X_train, y_train, cv=3)"
   ]
  },
  {
   "cell_type": "code",
   "execution_count": 64,
   "metadata": {},
   "outputs": [
    {
     "data": {
      "text/plain": [
       "array([[27141,    23],\n",
       "       [ 9817,   326]])"
      ]
     },
     "execution_count": 64,
     "metadata": {},
     "output_type": "execute_result"
    }
   ],
   "source": [
    "confusion_matrix(y_train, y_train_pred_mnb)"
   ]
  },
  {
   "cell_type": "code",
   "execution_count": 65,
   "metadata": {},
   "outputs": [
    {
     "data": {
      "text/plain": [
       "array([[26244,   920],\n",
       "       [ 7761,  2382]])"
      ]
     },
     "execution_count": 65,
     "metadata": {},
     "output_type": "execute_result"
    }
   ],
   "source": [
    "confusion_matrix(y_train,y_train_pred_logr)"
   ]
  },
  {
   "cell_type": "code",
   "execution_count": 66,
   "metadata": {},
   "outputs": [],
   "source": [
    "def accuracy_precision_recall_F1(y_train_data,y_train_pred):\n",
    "    print(\"Accuracy Score = \" + str(round(accuracy_score(y_train_data, y_train_pred),5)))\n",
    "    print(\"Precision Score = \" + str(round(precision_score(y_train_data, y_train_pred),5)))\n",
    "    print(\"Recall Score = \" + str(round(recall_score(y_train_data, y_train_pred),5)))\n",
    "    print(\"F1 Score = \" + str(round(f1_score(y_train_data, y_train_pred),5)))"
   ]
  },
  {
   "cell_type": "code",
   "execution_count": 67,
   "metadata": {},
   "outputs": [
    {
     "name": "stdout",
     "output_type": "stream",
     "text": [
      "Accuracy Score = 0.73624\n",
      "Precision Score = 0.9341\n",
      "Recall Score = 0.03214\n",
      "F1 Score = 0.06214\n"
     ]
    }
   ],
   "source": [
    "accuracy_precision_recall_F1(y_train, y_train_pred_mnb)"
   ]
  },
  {
   "cell_type": "code",
   "execution_count": 68,
   "metadata": {},
   "outputs": [
    {
     "name": "stdout",
     "output_type": "stream",
     "text": [
      "Accuracy Score = 0.76731\n",
      "Precision Score = 0.72138\n",
      "Recall Score = 0.23484\n",
      "F1 Score = 0.35433\n"
     ]
    }
   ],
   "source": [
    "accuracy_precision_recall_F1(y_train, y_train_pred_logr)"
   ]
  },
  {
   "cell_type": "markdown",
   "metadata": {},
   "source": [
    "### even though high scores, confusion matrix shows extremely high False Positive Rate... labeling liberals as conservatives... need to balance class weights to fix"
   ]
  },
  {
   "cell_type": "markdown",
   "metadata": {},
   "source": [
    "# rerun models balancing by class"
   ]
  },
  {
   "cell_type": "code",
   "execution_count": 69,
   "metadata": {},
   "outputs": [
    {
     "data": {
      "text/plain": [
       "0    27164\n",
       "1    10143\n",
       "Name: sLeftRight, dtype: int64"
      ]
     },
     "execution_count": 69,
     "metadata": {},
     "output_type": "execute_result"
    }
   ],
   "source": [
    "y_train.value_counts()"
   ]
  },
  {
   "cell_type": "code",
   "execution_count": 70,
   "metadata": {},
   "outputs": [],
   "source": [
    "classPrior0 = y_train.value_counts()[0]/y_train.shape[0]\n",
    "\n",
    "classPrior1 = 1 - classPrior0"
   ]
  },
  {
   "cell_type": "code",
   "execution_count": 71,
   "metadata": {},
   "outputs": [
    {
     "name": "stdout",
     "output_type": "stream",
     "text": [
      "0.728\n",
      "0.272\n"
     ]
    }
   ],
   "source": [
    "print(round(classPrior0,3))\n",
    "print(round(classPrior1,3))"
   ]
  },
  {
   "cell_type": "code",
   "execution_count": 72,
   "metadata": {},
   "outputs": [],
   "source": [
    "# create model pipelines\n",
    "text_mnb = Pipeline([('vect',CountVectorizer()),\n",
    "                    ('tfidf', TfidfTransformer()),\n",
    "                    ('mnb', MultinomialNB(class_prior=(classPrior1,classPrior0)))])\n",
    "\n",
    "text_logr = Pipeline([('vect',CountVectorizer()),\n",
    "                    ('tfidf', TfidfTransformer()),\n",
    "                    ('log', LogisticRegression(class_weight = \"balanced\"))])"
   ]
  },
  {
   "cell_type": "code",
   "execution_count": 73,
   "metadata": {},
   "outputs": [],
   "source": [
    "# fit models\n",
    "text_mnb = text_mnb.fit(X_train, y_train)\n",
    "\n",
    "text_logr = text_logr.fit(X_train, y_train)"
   ]
  },
  {
   "cell_type": "code",
   "execution_count": 74,
   "metadata": {},
   "outputs": [],
   "source": [
    "y_train_pred_mnb = cross_val_predict(text_mnb, X_train, y_train, cv=3)\n",
    "\n",
    "y_train_pred_logr = cross_val_predict(text_logr, X_train, y_train, cv=3)"
   ]
  },
  {
   "cell_type": "code",
   "execution_count": 75,
   "metadata": {},
   "outputs": [
    {
     "data": {
      "text/plain": [
       "array([[17314,  9850],\n",
       "       [ 4645,  5498]])"
      ]
     },
     "execution_count": 75,
     "metadata": {},
     "output_type": "execute_result"
    }
   ],
   "source": [
    "confusion_matrix(y_train, y_train_pred_mnb)"
   ]
  },
  {
   "cell_type": "code",
   "execution_count": 76,
   "metadata": {},
   "outputs": [
    {
     "data": {
      "text/plain": [
       "array([[20565,  6599],\n",
       "       [ 3659,  6484]])"
      ]
     },
     "execution_count": 76,
     "metadata": {},
     "output_type": "execute_result"
    }
   ],
   "source": [
    "confusion_matrix(y_train, y_train_pred_logr)"
   ]
  },
  {
   "cell_type": "code",
   "execution_count": 77,
   "metadata": {},
   "outputs": [
    {
     "name": "stdout",
     "output_type": "stream",
     "text": [
      "Accuracy Score = 0.61147\n",
      "Precision Score = 0.35822\n",
      "Recall Score = 0.54205\n",
      "F1 Score = 0.43137\n"
     ]
    }
   ],
   "source": [
    "accuracy_precision_recall_F1(y_train, y_train_pred_mnb)"
   ]
  },
  {
   "cell_type": "code",
   "execution_count": 78,
   "metadata": {},
   "outputs": [
    {
     "name": "stdout",
     "output_type": "stream",
     "text": [
      "Accuracy Score = 0.72504\n",
      "Precision Score = 0.4956\n",
      "Recall Score = 0.63926\n",
      "F1 Score = 0.55834\n"
     ]
    }
   ],
   "source": [
    "accuracy_precision_recall_F1(y_train, y_train_pred_logr)"
   ]
  },
  {
   "cell_type": "code",
   "execution_count": 79,
   "metadata": {},
   "outputs": [],
   "source": [
    "y_scores_mnb = cross_val_predict(text_mnb,\n",
    "                                 X_train,\n",
    "                                 y_train,\n",
    "                                 cv=3,\n",
    "                                 method=\"predict_proba\")\n",
    "y_scores_mnb = y_scores_mnb[:, 1]"
   ]
  },
  {
   "cell_type": "code",
   "execution_count": 80,
   "metadata": {},
   "outputs": [],
   "source": [
    "y_scores_logr = cross_val_predict(text_logr,\n",
    "                                  X_train,\n",
    "                                  y_train,\n",
    "                                  cv=3,\n",
    "                                  method=\"decision_function\")"
   ]
  },
  {
   "cell_type": "code",
   "execution_count": 81,
   "metadata": {},
   "outputs": [],
   "source": [
    "# plot precision/recall curve for both"
   ]
  },
  {
   "cell_type": "code",
   "execution_count": 82,
   "metadata": {},
   "outputs": [],
   "source": [
    "from sklearn.metrics import precision_recall_curve"
   ]
  },
  {
   "cell_type": "code",
   "execution_count": 83,
   "metadata": {},
   "outputs": [],
   "source": [
    "precision_mnb, recall_mnb, threshold_mnb = precision_recall_curve(y_train,\n",
    "                                                                  y_scores_mnb)\n",
    "\n",
    "precision_logr, recall_logr, threshold_logr = precision_recall_curve(y_train,\n",
    "                                                                     y_scores_logr)"
   ]
  },
  {
   "cell_type": "code",
   "execution_count": 84,
   "metadata": {},
   "outputs": [
    {
     "data": {
      "text/plain": [
       "(0, 1)"
      ]
     },
     "execution_count": 84,
     "metadata": {},
     "output_type": "execute_result"
    },
    {
     "data": {
      "image/png": "[encoded data removed]",
      "text/plain": [
       "<matplotlib.figure.Figure at 0x1a203eeda0>"
      ]
     },
     "metadata": {},
     "output_type": "display_data"
    }
   ],
   "source": [
    "plt.plot(threshold_mnb,precision_mnb[:-1],color=\"c\",linestyle=\"--\",label=\"Precision\")\n",
    "plt.plot(threshold_mnb,recall_mnb[:-1],color=\"c\",label=\"Recall\")\n",
    "\n",
    "plt.title(\"MNB\")\n",
    "plt.xlabel(\"Threshold\")\n",
    "plt.legend(loc=\"center right\")\n",
    "plt.ylim([0,1])"
   ]
  },
  {
   "cell_type": "code",
   "execution_count": 85,
   "metadata": {},
   "outputs": [
    {
     "data": {
      "text/plain": [
       "(0, 1)"
      ]
     },
     "execution_count": 85,
     "metadata": {},
     "output_type": "execute_result"
    },
    {
     "data": {
      "image/png": "[encoded data removed]",
      "text/plain": [
       "<matplotlib.figure.Figure at 0x1a1a2ad160>"
      ]
     },
     "metadata": {},
     "output_type": "display_data"
    }
   ],
   "source": [
    "plt.plot(threshold_logr,precision_logr[:-1],color=\"midnightblue\",linestyle=\"--\",label=\"Precision\")\n",
    "plt.plot(threshold_logr,recall_logr[:-1],color=\"midnightblue\",label=\"Recall\")\n",
    "\n",
    "plt.title(\"Logistic Regression\")\n",
    "plt.xlabel(\"Threshold\")\n",
    "plt.legend(loc=\"center right\")\n",
    "plt.ylim([0,1])"
   ]
  },
  {
   "cell_type": "code",
   "execution_count": 86,
   "metadata": {},
   "outputs": [],
   "source": [
    "# plot precision vs recall curve of both"
   ]
  },
  {
   "cell_type": "code",
   "execution_count": 87,
   "metadata": {},
   "outputs": [
    {
     "data": {
      "image/png": "[encoded data removed]",
      "text/plain": [
       "<matplotlib.figure.Figure at 0x1a1d7d3240>"
      ]
     },
     "metadata": {},
     "output_type": "display_data"
    }
   ],
   "source": [
    "plt.axis([0,1,0,1])\n",
    "plt.xlabel(\"Recall\")\n",
    "plt.ylabel(\"Precision\")\n",
    "\n",
    "plt.plot(recall_mnb,precision_mnb,\"c\",linewidth=2,label=\"MNB\")\n",
    "plt.plot(recall_logr,precision_logr,color=\"midnightblue\",linewidth=2,label=\"Logistic Regession\")\n",
    "\n",
    "plt.legend(loc=\"upper right\")\n",
    "plt.show()"
   ]
  },
  {
   "cell_type": "code",
   "execution_count": 88,
   "metadata": {},
   "outputs": [],
   "source": [
    "# plot ROC curves for both"
   ]
  },
  {
   "cell_type": "code",
   "execution_count": 89,
   "metadata": {},
   "outputs": [],
   "source": [
    "from sklearn.metrics import roc_curve"
   ]
  },
  {
   "cell_type": "code",
   "execution_count": 90,
   "metadata": {},
   "outputs": [],
   "source": [
    "fpr_mnb, tpr_mnb, thresholds_mnb = roc_curve(y_train, y_scores_mnb)"
   ]
  },
  {
   "cell_type": "code",
   "execution_count": 91,
   "metadata": {},
   "outputs": [],
   "source": [
    "fpr_logr, tpr_logr, thresholds_logr = roc_curve(y_train, y_scores_logr)"
   ]
  },
  {
   "cell_type": "code",
   "execution_count": 92,
   "metadata": {},
   "outputs": [
    {
     "data": {
      "image/png": "[encoded data removed]",
      "text/plain": [
       "<matplotlib.figure.Figure at 0x1a19190550>"
      ]
     },
     "metadata": {},
     "output_type": "display_data"
    }
   ],
   "source": [
    "plt.axis([0,1,0,1])\n",
    "plt.plot([0,1],[0,1],'k--')\n",
    "\n",
    "plt.xlabel(\"False Positive Rate\")\n",
    "plt.ylabel(\"True Positive Rate\")\n",
    "\n",
    "plt.plot(fpr_mnb,tpr_mnb,color=\"c\",linewidth=2,label=\"MNB\")\n",
    "plt.plot(fpr_logr,tpr_logr,color=\"midnightblue\",linewidth=2,label=\"Logistic Regession\")\n",
    "\n",
    "plt.legend(loc=\"lower right\")\n",
    "plt.show()"
   ]
  },
  {
   "cell_type": "code",
   "execution_count": 93,
   "metadata": {},
   "outputs": [],
   "source": [
    "from sklearn.metrics import roc_auc_score"
   ]
  },
  {
   "cell_type": "code",
   "execution_count": 94,
   "metadata": {},
   "outputs": [
    {
     "name": "stdout",
     "output_type": "stream",
     "text": [
      "MNB AUC = 0.58972\n",
      "Logistic Regression AUC = 0.69816\n"
     ]
    }
   ],
   "source": [
    "print(\"MNB AUC = \"+str(round(roc_auc_score(y_train,\n",
    "                                           y_train_pred_mnb),5)))\n",
    "\n",
    "print(\"Logistic Regression AUC = \"+str(round(roc_auc_score(y_train,\n",
    "                                                           y_train_pred_logr),5)))"
   ]
  },
  {
   "cell_type": "markdown",
   "metadata": {},
   "source": [
    "# stopwords and stemming"
   ]
  },
  {
   "cell_type": "code",
   "execution_count": 95,
   "metadata": {},
   "outputs": [],
   "source": [
    "import nltk\n",
    "\n",
    "from nltk.stem.snowball import SnowballStemmer\n",
    "stemmer = SnowballStemmer(\"english\", ignore_stopwords=True)"
   ]
  },
  {
   "cell_type": "code",
   "execution_count": 96,
   "metadata": {},
   "outputs": [],
   "source": [
    "class StemmedCountVectorizer(CountVectorizer):\n",
    "    def build_analyzer(self):\n",
    "        analyzer = super(StemmedCountVectorizer, self).build_analyzer()\n",
    "        return lambda doc: ([stemmer.stem(w) for w in analyzer(doc)])"
   ]
  },
  {
   "cell_type": "code",
   "execution_count": 97,
   "metadata": {},
   "outputs": [],
   "source": [
    "stemmed_count_vect = StemmedCountVectorizer(stop_words='english')"
   ]
  },
  {
   "cell_type": "code",
   "execution_count": 98,
   "metadata": {},
   "outputs": [],
   "source": [
    "# create model pipelines\n",
    "text_mnb = Pipeline([('vect', stemmed_count_vect),\n",
    "                    ('tfidf', TfidfTransformer()),\n",
    "                    ('mnb', MultinomialNB(class_prior=(classPrior1,classPrior0)))])\n",
    "\n",
    "text_logr = Pipeline([('vect', stemmed_count_vect),\n",
    "                    ('tfidf', TfidfTransformer()),\n",
    "                    ('log', LogisticRegression(class_weight = \"balanced\"))])"
   ]
  },
  {
   "cell_type": "code",
   "execution_count": 99,
   "metadata": {},
   "outputs": [],
   "source": [
    "# fit models\n",
    "text_mnb = text_mnb.fit(X_train, y_train)\n",
    "\n",
    "text_logr = text_logr.fit(X_train, y_train)"
   ]
  },
  {
   "cell_type": "code",
   "execution_count": 100,
   "metadata": {},
   "outputs": [],
   "source": [
    "y_train_pred_mnb = cross_val_predict(text_mnb, X_train, y_train, cv=3)\n",
    "\n",
    "y_train_pred_logr = cross_val_predict(text_logr, X_train, y_train, cv=3)"
   ]
  },
  {
   "cell_type": "code",
   "execution_count": 101,
   "metadata": {},
   "outputs": [
    {
     "data": {
      "text/plain": [
       "array([[14496, 12668],\n",
       "       [ 2949,  7194]])"
      ]
     },
     "execution_count": 101,
     "metadata": {},
     "output_type": "execute_result"
    }
   ],
   "source": [
    "confusion_matrix(y_train, y_train_pred_mnb)"
   ]
  },
  {
   "cell_type": "code",
   "execution_count": 102,
   "metadata": {},
   "outputs": [
    {
     "data": {
      "text/plain": [
       "array([[20518,  6646],\n",
       "       [ 3694,  6449]])"
      ]
     },
     "execution_count": 102,
     "metadata": {},
     "output_type": "execute_result"
    }
   ],
   "source": [
    "confusion_matrix(y_train,y_train_pred_logr)"
   ]
  },
  {
   "cell_type": "code",
   "execution_count": 103,
   "metadata": {
    "scrolled": true
   },
   "outputs": [
    {
     "name": "stdout",
     "output_type": "stream",
     "text": [
      "Accuracy Score = 0.58139\n",
      "Precision Score = 0.3622\n",
      "Recall Score = 0.70926\n",
      "F1 Score = 0.47952\n"
     ]
    }
   ],
   "source": [
    "accuracy_precision_recall_F1(y_train, y_train_pred_mnb)"
   ]
  },
  {
   "cell_type": "code",
   "execution_count": 104,
   "metadata": {},
   "outputs": [
    {
     "name": "stdout",
     "output_type": "stream",
     "text": [
      "Accuracy Score = 0.72284\n",
      "Precision Score = 0.49248\n",
      "Recall Score = 0.63581\n",
      "F1 Score = 0.55504\n"
     ]
    }
   ],
   "source": [
    "accuracy_precision_recall_F1(y_train, y_train_pred_logr)"
   ]
  },
  {
   "cell_type": "code",
   "execution_count": 105,
   "metadata": {},
   "outputs": [],
   "source": [
    "y_scores_mnb_swr = cross_val_predict(text_mnb,\n",
    "                                 X_train,\n",
    "                                 y_train,\n",
    "                                 cv=3,\n",
    "                                 method=\"predict_proba\")\n",
    "\n",
    "y_scores_mnb_swr = y_scores_mnb_swr[:, 1]"
   ]
  },
  {
   "cell_type": "code",
   "execution_count": 106,
   "metadata": {},
   "outputs": [],
   "source": [
    "y_scores_logr_swr = cross_val_predict(text_logr,\n",
    "                                  X_train,\n",
    "                                  y_train,\n",
    "                                  cv=3,\n",
    "                                  method=\"decision_function\")"
   ]
  },
  {
   "cell_type": "code",
   "execution_count": 107,
   "metadata": {},
   "outputs": [],
   "source": [
    "precision_mnb_swr, recall_mnb_swr, threshold_mnb_swr = precision_recall_curve(y_train,\n",
    "                                                                  y_scores_mnb_swr)\n",
    "\n",
    "precision_logr_swr, recall_logr_swr, threshold_logr_swr = precision_recall_curve(y_train,\n",
    "                                                                     y_scores_logr_swr)"
   ]
  },
  {
   "cell_type": "code",
   "execution_count": 108,
   "metadata": {},
   "outputs": [
    {
     "data": {
      "image/png": "[encoded data removed]",
      "text/plain": [
       "<matplotlib.figure.Figure at 0x1a1d3cb240>"
      ]
     },
     "metadata": {},
     "output_type": "display_data"
    }
   ],
   "source": [
    "plt.axis([0,1,0,1])\n",
    "plt.xlabel(\"Recall\")\n",
    "plt.ylabel(\"Precision\")\n",
    "\n",
    "plt.plot(recall_mnb,\n",
    "         precision_mnb,\n",
    "         color=\"c\",\n",
    "         linewidth=2,\n",
    "         label=\"MNB - base\")\n",
    "\n",
    "plt.plot(recall_mnb_swr,\n",
    "         precision_mnb_swr,\n",
    "         color=\"cyan\",\n",
    "         linestyle=\":\",\n",
    "         linewidth=2,\n",
    "         label=\"MNB - stemmed & sw removed\")\n",
    "\n",
    "plt.plot(recall_logr,\n",
    "         precision_logr,\n",
    "         color=\"midnightblue\",\n",
    "         linewidth=2,\n",
    "         label=\"Logistic Regession - base\")\n",
    "\n",
    "plt.plot(recall_logr_swr,\n",
    "         precision_logr_swr,\n",
    "         color=\"midnightblue\",\n",
    "         linestyle=\":\",\n",
    "         linewidth=2,\n",
    "         label=\"Logistic Regession - stemmed & sw removed\")\n",
    "\n",
    "\n",
    "plt.legend(loc=\"upper right\")\n",
    "plt.show()"
   ]
  },
  {
   "cell_type": "code",
   "execution_count": 109,
   "metadata": {},
   "outputs": [],
   "source": [
    "fpr_mnb_swr, tpr_mnb_swr, thresholds_mnb_swr = roc_curve(y_train, y_scores_mnb_swr)"
   ]
  },
  {
   "cell_type": "code",
   "execution_count": 110,
   "metadata": {},
   "outputs": [],
   "source": [
    "fpr_logr_swr, tpr_logr_swr, thresholds_logr_swr = roc_curve(y_train, y_scores_logr_swr)"
   ]
  },
  {
   "cell_type": "code",
   "execution_count": 111,
   "metadata": {},
   "outputs": [
    {
     "data": {
      "image/png": "[encoded data removed]",
      "text/plain": [
       "<matplotlib.figure.Figure at 0x1a1d3cb3c8>"
      ]
     },
     "metadata": {},
     "output_type": "display_data"
    }
   ],
   "source": [
    "plt.axis([0,1,0,1])\n",
    "plt.plot([0,1],[0,1],'k--')\n",
    "\n",
    "plt.xlabel(\"False Positive Rate\")\n",
    "plt.ylabel(\"True Positive Rate\")\n",
    "\n",
    "plt.plot(fpr_mnb,tpr_mnb,color=\"cyan\",\n",
    "         linewidth=2,\n",
    "         label=\"MNB - base\")\n",
    "\n",
    "plt.plot(fpr_mnb_swr,\n",
    "         tpr_mnb_swr,\n",
    "         color=\"c\",\n",
    "         linestyle=\":\",\n",
    "         linewidth=2,\n",
    "         label=\"MNB - stemmed & sw removed\")\n",
    "\n",
    "plt.plot(fpr_logr,\n",
    "         tpr_logr,\n",
    "         color=\"midnightblue\",\n",
    "         linewidth=2,\n",
    "         label=\"Logistic Regession - base\")\n",
    "\n",
    "plt.plot(fpr_logr_swr,\n",
    "         tpr_logr_swr,\n",
    "         color=\"midnightblue\",\n",
    "         linestyle=\":\",\n",
    "         linewidth=2,\n",
    "         label=\"Logistic Regession - stemmed & sw removed\")\n",
    "\n",
    "plt.legend(loc=\"lower right\")\n",
    "plt.show()"
   ]
  },
  {
   "cell_type": "code",
   "execution_count": 112,
   "metadata": {},
   "outputs": [
    {
     "name": "stdout",
     "output_type": "stream",
     "text": [
      "MNB AUC = 0.62145\n",
      "Logistic Regression AUC = 0.69557\n"
     ]
    }
   ],
   "source": [
    "print(\"MNB AUC = \"+str(round(roc_auc_score(y_train,\n",
    "                                           y_train_pred_mnb),5)))\n",
    "\n",
    "print(\"Logistic Regression AUC = \"+str(round(roc_auc_score(y_train,\n",
    "                                                           y_train_pred_logr),5)))"
   ]
  },
  {
   "cell_type": "markdown",
   "metadata": {},
   "source": [
    "# run additional models with stemming and stopwords removed:"
   ]
  },
  {
   "cell_type": "markdown",
   "metadata": {},
   "source": [
    "### randomForest"
   ]
  },
  {
   "cell_type": "code",
   "execution_count": 113,
   "metadata": {},
   "outputs": [],
   "source": [
    "from sklearn.ensemble import RandomForestClassifier\n",
    "\n",
    "\n",
    "text_rf = Pipeline([('vect', stemmed_count_vect),\n",
    "                    ('tfidf', TfidfTransformer()),\n",
    "                     ('rf', RandomForestClassifier(class_weight=\"balanced\"))])"
   ]
  },
  {
   "cell_type": "code",
   "execution_count": 114,
   "metadata": {},
   "outputs": [],
   "source": [
    "text_rf = text_rf.fit(X_train, y_train)"
   ]
  },
  {
   "cell_type": "code",
   "execution_count": 115,
   "metadata": {},
   "outputs": [],
   "source": [
    "y_train_pred_rf = cross_val_predict(text_rf, X_train, y_train, cv=3)"
   ]
  },
  {
   "cell_type": "code",
   "execution_count": 116,
   "metadata": {},
   "outputs": [
    {
     "data": {
      "text/plain": [
       "array([[25721,  1443],\n",
       "       [ 7651,  2492]])"
      ]
     },
     "execution_count": 116,
     "metadata": {},
     "output_type": "execute_result"
    }
   ],
   "source": [
    "confusion_matrix(y_train, y_train_pred_rf)"
   ]
  },
  {
   "cell_type": "code",
   "execution_count": 117,
   "metadata": {},
   "outputs": [
    {
     "name": "stdout",
     "output_type": "stream",
     "text": [
      "Accuracy Score = 0.75624\n",
      "Precision Score = 0.63329\n",
      "Recall Score = 0.24569\n",
      "F1 Score = 0.35403\n"
     ]
    }
   ],
   "source": [
    "accuracy_precision_recall_F1(y_train, y_train_pred_rf)"
   ]
  },
  {
   "cell_type": "code",
   "execution_count": 118,
   "metadata": {},
   "outputs": [],
   "source": [
    "y_scores_rf = cross_val_predict(text_rf, X_train, \n",
    "                                y_train, cv=3,\n",
    "                                method=\"predict_proba\")\n",
    "y_scores_rf = y_scores_rf[:, 1]"
   ]
  },
  {
   "cell_type": "code",
   "execution_count": 119,
   "metadata": {},
   "outputs": [],
   "source": [
    "fpr_rf, tpr_rf, thresholds_rf = roc_curve(y_train, y_scores_rf)"
   ]
  },
  {
   "cell_type": "code",
   "execution_count": 120,
   "metadata": {},
   "outputs": [],
   "source": [
    "precision_rf, recall_rf, threshold_rf = precision_recall_curve(y_train,\n",
    "                                                                  y_scores_rf)"
   ]
  },
  {
   "cell_type": "code",
   "execution_count": 121,
   "metadata": {},
   "outputs": [
    {
     "name": "stdout",
     "output_type": "stream",
     "text": [
      "RF AUC = 0.59628\n"
     ]
    }
   ],
   "source": [
    "print(\"RF AUC = \"+str(round(roc_auc_score(y_train,\n",
    "                                           y_train_pred_rf),5)))"
   ]
  },
  {
   "cell_type": "markdown",
   "metadata": {},
   "source": [
    "### randomForest -  get feature importances"
   ]
  },
  {
   "cell_type": "code",
   "execution_count": 122,
   "metadata": {},
   "outputs": [],
   "source": [
    "rf_feature_names = text_rf.steps[0][1].get_feature_names()"
   ]
  },
  {
   "cell_type": "code",
   "execution_count": 123,
   "metadata": {},
   "outputs": [],
   "source": [
    "rf_feature_scores = text_rf.steps[2][1].feature_importances_"
   ]
  },
  {
   "cell_type": "code",
   "execution_count": 124,
   "metadata": {},
   "outputs": [],
   "source": [
    "rf_features = pd.DataFrame(rf_feature_scores,rf_feature_names).reset_index()"
   ]
  },
  {
   "cell_type": "code",
   "execution_count": 125,
   "metadata": {},
   "outputs": [],
   "source": [
    "rf_features.columns.values[0] = 'feature'\n",
    "rf_features.columns.values[1] = 'score'\n",
    "rf_features = rf_features.reset_index(drop=True)"
   ]
  },
  {
   "cell_type": "code",
   "execution_count": 126,
   "metadata": {},
   "outputs": [],
   "source": [
    "rf_features_top25 = rf_features.sort_values(by=\"score\",ascending=False).reset_index(drop=True).head(25)"
   ]
  },
  {
   "cell_type": "code",
   "execution_count": 127,
   "metadata": {},
   "outputs": [
    {
     "name": "stderr",
     "output_type": "stream",
     "text": [
      "/Users/franklindickinson/anaconda3/lib/python3.6/site-packages/seaborn/categorical.py:1460: FutureWarning: remove_na is deprecated and is a private function. Do not use.\n",
      "  stat_data = remove_na(group_data)\n"
     ]
    },
    {
     "data": {
      "image/png": "[encoded data removed]",
      "text/plain": [
       "<matplotlib.figure.Figure at 0x1a1d590748>"
      ]
     },
     "metadata": {},
     "output_type": "display_data"
    }
   ],
   "source": [
    "rf_features_top25 = sns.barplot(x='feature',\n",
    "            y='score',\n",
    "            data = rf_features_top25,\n",
    "            palette=\"rocket\")\n",
    "\n",
    "for item in rf_features_top25.get_xticklabels():\n",
    "    item.set_rotation(65)"
   ]
  },
  {
   "cell_type": "markdown",
   "metadata": {},
   "source": [
    "### Support Vector Classifier - Linear"
   ]
  },
  {
   "cell_type": "code",
   "execution_count": 128,
   "metadata": {},
   "outputs": [],
   "source": [
    "from sklearn.svm import LinearSVC"
   ]
  },
  {
   "cell_type": "code",
   "execution_count": 129,
   "metadata": {},
   "outputs": [],
   "source": [
    "text_svc = Pipeline([('vect', stemmed_count_vect),\n",
    "                    ('tfidf', TfidfTransformer()),\n",
    "                    ('svc', LinearSVC(loss='hinge', \n",
    "                                      class_weight=\"balanced\"))])"
   ]
  },
  {
   "cell_type": "code",
   "execution_count": 130,
   "metadata": {},
   "outputs": [],
   "source": [
    "text_svc = text_svc.fit(X_train, y_train)"
   ]
  },
  {
   "cell_type": "code",
   "execution_count": 131,
   "metadata": {},
   "outputs": [],
   "source": [
    "y_train_pred_svc = cross_val_predict(text_svc, X_train, y_train, cv=3)"
   ]
  },
  {
   "cell_type": "code",
   "execution_count": 132,
   "metadata": {},
   "outputs": [
    {
     "data": {
      "text/plain": [
       "array([[20734,  6430],\n",
       "       [ 3847,  6296]])"
      ]
     },
     "execution_count": 132,
     "metadata": {},
     "output_type": "execute_result"
    }
   ],
   "source": [
    "confusion_matrix(y_train, y_train_pred_svc)"
   ]
  },
  {
   "cell_type": "code",
   "execution_count": 133,
   "metadata": {},
   "outputs": [
    {
     "name": "stdout",
     "output_type": "stream",
     "text": [
      "Accuracy Score = 0.72453\n",
      "Precision Score = 0.49474\n",
      "Recall Score = 0.62072\n",
      "F1 Score = 0.55061\n"
     ]
    }
   ],
   "source": [
    "accuracy_precision_recall_F1(y_train, y_train_pred_svc)"
   ]
  },
  {
   "cell_type": "code",
   "execution_count": 134,
   "metadata": {},
   "outputs": [],
   "source": [
    "y_scores_svc = cross_val_predict(text_svc, X_train, y_train, cv=3, method=\"decision_function\")"
   ]
  },
  {
   "cell_type": "code",
   "execution_count": 135,
   "metadata": {},
   "outputs": [],
   "source": [
    "fpr_svc, tpr_svc, thresholds_svc = roc_curve(y_train, y_scores_svc)"
   ]
  },
  {
   "cell_type": "code",
   "execution_count": 136,
   "metadata": {},
   "outputs": [],
   "source": [
    "precision_svc, recall_svc, threshold_svc = precision_recall_curve(y_train,\n",
    "                                                                  y_scores_svc)"
   ]
  },
  {
   "cell_type": "code",
   "execution_count": 137,
   "metadata": {},
   "outputs": [
    {
     "name": "stdout",
     "output_type": "stream",
     "text": [
      "SVC AUC = 0.69201\n"
     ]
    }
   ],
   "source": [
    "print(\"SVC AUC = \"+str(round(roc_auc_score(y_train,\n",
    "                                           y_train_pred_svc),5)))"
   ]
  },
  {
   "cell_type": "markdown",
   "metadata": {},
   "source": [
    "### Look at all outputs"
   ]
  },
  {
   "cell_type": "code",
   "execution_count": 139,
   "metadata": {},
   "outputs": [
    {
     "data": {
      "image/png": "[encoded data removed]",
      "text/plain": [
       "<matplotlib.figure.Figure at 0x1a1cf89518>"
      ]
     },
     "metadata": {},
     "output_type": "display_data"
    }
   ],
   "source": [
    "plt.axis([0,1,0,1])\n",
    "plt.xlabel(\"Recall\")\n",
    "plt.ylabel(\"Precision\")\n",
    "\n",
    "plt.plot(recall_mnb_swr,precision_mnb_swr,\n",
    "         \"c\",\n",
    "         linewidth=2,\n",
    "         label=\"Multinomial Naive Bayes\")\n",
    "\n",
    "plt.plot(recall_logr_swr,\n",
    "         precision_logr_swr,\n",
    "         color=\"midnightblue\",\n",
    "         linestyle=\"--\",\n",
    "         linewidth=2,\n",
    "         label=\"Logistic Regession\")\n",
    "\n",
    "plt.plot(recall_svc,\n",
    "         precision_svc,\n",
    "         color=\"darkred\",\n",
    "         linewidth=2,\n",
    "         label=\"Support Vector Classifier\")\n",
    "\n",
    "plt.plot(recall_rf,\n",
    "         precision_rf,\n",
    "         \"y--\",linewidth=2,\n",
    "         label=\"RandomForest\")\n",
    "\n",
    "\n",
    "plt.legend(loc=\"upper right\")\n",
    "plt.show()"
   ]
  },
  {
   "cell_type": "code",
   "execution_count": 140,
   "metadata": {},
   "outputs": [
    {
     "data": {
      "image/png": "[encoded data removed]",
      "text/plain": [
       "<matplotlib.figure.Figure at 0x1a1cf84668>"
      ]
     },
     "metadata": {},
     "output_type": "display_data"
    }
   ],
   "source": [
    "plt.axis([0,1,0,1])\n",
    "plt.plot([0,1],[0,1],'k--')\n",
    "\n",
    "plt.xlabel(\"False Positive Rate\")\n",
    "plt.ylabel(\"True Positive Rate\")\n",
    "\n",
    "plt.plot(fpr_mnb_swr,tpr_mnb_swr,\n",
    "         \"c\",\n",
    "         linewidth=2,\n",
    "         label=\"Multinomial Naive Bayes\")\n",
    "\n",
    "plt.plot(fpr_logr_swr,\n",
    "         tpr_logr_swr,\n",
    "         color=\"midnightblue\",\n",
    "         linestyle=\"--\",\n",
    "         linewidth=2,\n",
    "         label=\"Logistic Regession\")\n",
    "\n",
    "plt.plot(fpr_svc,\n",
    "         tpr_svc,\n",
    "         color=\"darkred\",\n",
    "         linewidth=2,\n",
    "         label=\"Support Vector Classifier\")\n",
    "\n",
    "plt.plot(fpr_rf,\n",
    "         tpr_rf,\n",
    "         \"y--\",\n",
    "         linewidth=2,\n",
    "         label=\"RandomForest\")\n",
    "\n",
    "plt.legend(loc=\"lower right\")\n",
    "plt.show()"
   ]
  },
  {
   "cell_type": "markdown",
   "metadata": {},
   "source": [
    "### SGDClassifier - hinge (SVC) and log (logistic regression)"
   ]
  },
  {
   "cell_type": "code",
   "execution_count": 141,
   "metadata": {},
   "outputs": [
    {
     "name": "stderr",
     "output_type": "stream",
     "text": [
      "/Users/franklindickinson/anaconda3/lib/python3.6/site-packages/sklearn/linear_model/stochastic_gradient.py:128: FutureWarning: max_iter and tol parameters have been added in <class 'sklearn.linear_model.stochastic_gradient.SGDClassifier'> in 0.19. If both are left unset, they default to max_iter=5 and tol=None. If tol is not None, max_iter defaults to max_iter=1000. From 0.21, default max_iter will be 1000, and default tol will be 1e-3.\n",
      "  \"and default tol will be 1e-3.\" % type(self), FutureWarning)\n",
      "/Users/franklindickinson/anaconda3/lib/python3.6/site-packages/sklearn/linear_model/stochastic_gradient.py:128: FutureWarning: max_iter and tol parameters have been added in <class 'sklearn.linear_model.stochastic_gradient.SGDClassifier'> in 0.19. If both are left unset, they default to max_iter=5 and tol=None. If tol is not None, max_iter defaults to max_iter=1000. From 0.21, default max_iter will be 1000, and default tol will be 1e-3.\n",
      "  \"and default tol will be 1e-3.\" % type(self), FutureWarning)\n",
      "/Users/franklindickinson/anaconda3/lib/python3.6/site-packages/sklearn/linear_model/stochastic_gradient.py:128: FutureWarning: max_iter and tol parameters have been added in <class 'sklearn.linear_model.stochastic_gradient.SGDClassifier'> in 0.19. If both are left unset, they default to max_iter=5 and tol=None. If tol is not None, max_iter defaults to max_iter=1000. From 0.21, default max_iter will be 1000, and default tol will be 1e-3.\n",
      "  \"and default tol will be 1e-3.\" % type(self), FutureWarning)\n",
      "/Users/franklindickinson/anaconda3/lib/python3.6/site-packages/sklearn/linear_model/stochastic_gradient.py:128: FutureWarning: max_iter and tol parameters have been added in <class 'sklearn.linear_model.stochastic_gradient.SGDClassifier'> in 0.19. If both are left unset, they default to max_iter=5 and tol=None. If tol is not None, max_iter defaults to max_iter=1000. From 0.21, default max_iter will be 1000, and default tol will be 1e-3.\n",
      "  \"and default tol will be 1e-3.\" % type(self), FutureWarning)\n"
     ]
    }
   ],
   "source": [
    "from sklearn.linear_model import SGDClassifier\n",
    "\n",
    "#hinge\n",
    "\n",
    "text_sgd_svc = Pipeline([('vect', stemmed_count_vect),\n",
    "                    ('tfidf', TfidfTransformer()),\n",
    "                    ('sgd', SGDClassifier(\n",
    "                                      class_weight=\"balanced\",\n",
    "                                      loss =\"hinge\"))])\n",
    "text_sgd_svc = text_sgd_svc.fit(X_train, y_train)\n",
    "\n",
    "y_train_pred_sgd_svc = cross_val_predict(text_sgd_svc,\n",
    "                                         X_train,\n",
    "                                         y_train,\n",
    "                                         cv=3)\n"
   ]
  },
  {
   "cell_type": "code",
   "execution_count": 142,
   "metadata": {},
   "outputs": [],
   "source": [
    "### hinge output"
   ]
  },
  {
   "cell_type": "code",
   "execution_count": 143,
   "metadata": {},
   "outputs": [
    {
     "data": {
      "text/plain": [
       "array([[20480,  6684],\n",
       "       [ 3823,  6320]])"
      ]
     },
     "execution_count": 143,
     "metadata": {},
     "output_type": "execute_result"
    }
   ],
   "source": [
    "confusion_matrix(y_train, y_train_pred_sgd_svc)"
   ]
  },
  {
   "cell_type": "code",
   "execution_count": 144,
   "metadata": {},
   "outputs": [
    {
     "name": "stdout",
     "output_type": "stream",
     "text": [
      "Accuracy Score = 0.71836\n",
      "Precision Score = 0.486\n",
      "Recall Score = 0.62309\n",
      "F1 Score = 0.54608\n"
     ]
    }
   ],
   "source": [
    "accuracy_precision_recall_F1(y_train, y_train_pred_sgd_svc)"
   ]
  },
  {
   "cell_type": "code",
   "execution_count": 145,
   "metadata": {},
   "outputs": [
    {
     "name": "stderr",
     "output_type": "stream",
     "text": [
      "/Users/franklindickinson/anaconda3/lib/python3.6/site-packages/sklearn/linear_model/stochastic_gradient.py:128: FutureWarning: max_iter and tol parameters have been added in <class 'sklearn.linear_model.stochastic_gradient.SGDClassifier'> in 0.19. If both are left unset, they default to max_iter=5 and tol=None. If tol is not None, max_iter defaults to max_iter=1000. From 0.21, default max_iter will be 1000, and default tol will be 1e-3.\n",
      "  \"and default tol will be 1e-3.\" % type(self), FutureWarning)\n",
      "/Users/franklindickinson/anaconda3/lib/python3.6/site-packages/sklearn/linear_model/stochastic_gradient.py:128: FutureWarning: max_iter and tol parameters have been added in <class 'sklearn.linear_model.stochastic_gradient.SGDClassifier'> in 0.19. If both are left unset, they default to max_iter=5 and tol=None. If tol is not None, max_iter defaults to max_iter=1000. From 0.21, default max_iter will be 1000, and default tol will be 1e-3.\n",
      "  \"and default tol will be 1e-3.\" % type(self), FutureWarning)\n",
      "/Users/franklindickinson/anaconda3/lib/python3.6/site-packages/sklearn/linear_model/stochastic_gradient.py:128: FutureWarning: max_iter and tol parameters have been added in <class 'sklearn.linear_model.stochastic_gradient.SGDClassifier'> in 0.19. If both are left unset, they default to max_iter=5 and tol=None. If tol is not None, max_iter defaults to max_iter=1000. From 0.21, default max_iter will be 1000, and default tol will be 1e-3.\n",
      "  \"and default tol will be 1e-3.\" % type(self), FutureWarning)\n"
     ]
    }
   ],
   "source": [
    "y_scores_sgd_svc = cross_val_predict(text_sgd_svc, X_train, y_train, cv=3, method=\"decision_function\")"
   ]
  },
  {
   "cell_type": "code",
   "execution_count": 146,
   "metadata": {},
   "outputs": [],
   "source": [
    "fpr_sgd_svc, tpr_sgd_svc, thresholds_sgd_svc = roc_curve(y_train, y_scores_sgd_svc)"
   ]
  },
  {
   "cell_type": "code",
   "execution_count": 147,
   "metadata": {},
   "outputs": [],
   "source": [
    "precision_sgd_svc, recall_sgd_svc, threshold_sgd_svc = precision_recall_curve(y_train,\n",
    "                                                                  y_scores_sgd_svc)"
   ]
  },
  {
   "cell_type": "code",
   "execution_count": 148,
   "metadata": {},
   "outputs": [
    {
     "name": "stdout",
     "output_type": "stream",
     "text": [
      "SGD AUC = 0.68851\n"
     ]
    }
   ],
   "source": [
    "print(\"SGD AUC = \"+str(round(roc_auc_score(y_train,\n",
    "                                           y_train_pred_sgd_svc),5)))"
   ]
  },
  {
   "cell_type": "code",
   "execution_count": 149,
   "metadata": {},
   "outputs": [],
   "source": [
    "### log output"
   ]
  },
  {
   "cell_type": "code",
   "execution_count": 150,
   "metadata": {},
   "outputs": [
    {
     "name": "stderr",
     "output_type": "stream",
     "text": [
      "/Users/franklindickinson/anaconda3/lib/python3.6/site-packages/sklearn/linear_model/stochastic_gradient.py:128: FutureWarning: max_iter and tol parameters have been added in <class 'sklearn.linear_model.stochastic_gradient.SGDClassifier'> in 0.19. If both are left unset, they default to max_iter=5 and tol=None. If tol is not None, max_iter defaults to max_iter=1000. From 0.21, default max_iter will be 1000, and default tol will be 1e-3.\n",
      "  \"and default tol will be 1e-3.\" % type(self), FutureWarning)\n",
      "/Users/franklindickinson/anaconda3/lib/python3.6/site-packages/sklearn/linear_model/stochastic_gradient.py:128: FutureWarning: max_iter and tol parameters have been added in <class 'sklearn.linear_model.stochastic_gradient.SGDClassifier'> in 0.19. If both are left unset, they default to max_iter=5 and tol=None. If tol is not None, max_iter defaults to max_iter=1000. From 0.21, default max_iter will be 1000, and default tol will be 1e-3.\n",
      "  \"and default tol will be 1e-3.\" % type(self), FutureWarning)\n",
      "/Users/franklindickinson/anaconda3/lib/python3.6/site-packages/sklearn/linear_model/stochastic_gradient.py:128: FutureWarning: max_iter and tol parameters have been added in <class 'sklearn.linear_model.stochastic_gradient.SGDClassifier'> in 0.19. If both are left unset, they default to max_iter=5 and tol=None. If tol is not None, max_iter defaults to max_iter=1000. From 0.21, default max_iter will be 1000, and default tol will be 1e-3.\n",
      "  \"and default tol will be 1e-3.\" % type(self), FutureWarning)\n",
      "/Users/franklindickinson/anaconda3/lib/python3.6/site-packages/sklearn/linear_model/stochastic_gradient.py:128: FutureWarning: max_iter and tol parameters have been added in <class 'sklearn.linear_model.stochastic_gradient.SGDClassifier'> in 0.19. If both are left unset, they default to max_iter=5 and tol=None. If tol is not None, max_iter defaults to max_iter=1000. From 0.21, default max_iter will be 1000, and default tol will be 1e-3.\n",
      "  \"and default tol will be 1e-3.\" % type(self), FutureWarning)\n"
     ]
    }
   ],
   "source": [
    "#log\n",
    "\n",
    "text_sgd_log = Pipeline([('vect', stemmed_count_vect),\n",
    "                    ('tfidf', TfidfTransformer()),\n",
    "                    ('sgd', SGDClassifier(\n",
    "                                      class_weight=\"balanced\",\n",
    "                                      loss =\"log\"))])\n",
    "text_sgd_log = text_sgd_log.fit(X_train, y_train)\n",
    "\n",
    "y_train_pred_sgd_log = cross_val_predict(text_sgd_log, X_train, y_train, cv=3)\n"
   ]
  },
  {
   "cell_type": "code",
   "execution_count": 151,
   "metadata": {},
   "outputs": [
    {
     "data": {
      "text/plain": [
       "array([[19825,  7339],\n",
       "       [ 3573,  6570]])"
      ]
     },
     "execution_count": 151,
     "metadata": {},
     "output_type": "execute_result"
    }
   ],
   "source": [
    "confusion_matrix(y_train, y_train_pred_sgd_log)"
   ]
  },
  {
   "cell_type": "code",
   "execution_count": 152,
   "metadata": {},
   "outputs": [
    {
     "name": "stdout",
     "output_type": "stream",
     "text": [
      "Accuracy Score = 0.70751\n",
      "Precision Score = 0.47236\n",
      "Recall Score = 0.64774\n",
      "F1 Score = 0.54632\n"
     ]
    }
   ],
   "source": [
    "accuracy_precision_recall_F1(y_train, y_train_pred_sgd_log)"
   ]
  },
  {
   "cell_type": "code",
   "execution_count": 153,
   "metadata": {},
   "outputs": [],
   "source": [
    "y_scores_logr = cross_val_predict(text_logr,\n",
    "                                  X_train,\n",
    "                                  y_train,\n",
    "                                  cv=3,\n",
    "                                  method=\"decision_function\")"
   ]
  },
  {
   "cell_type": "code",
   "execution_count": 154,
   "metadata": {},
   "outputs": [
    {
     "name": "stderr",
     "output_type": "stream",
     "text": [
      "/Users/franklindickinson/anaconda3/lib/python3.6/site-packages/sklearn/linear_model/stochastic_gradient.py:128: FutureWarning: max_iter and tol parameters have been added in <class 'sklearn.linear_model.stochastic_gradient.SGDClassifier'> in 0.19. If both are left unset, they default to max_iter=5 and tol=None. If tol is not None, max_iter defaults to max_iter=1000. From 0.21, default max_iter will be 1000, and default tol will be 1e-3.\n",
      "  \"and default tol will be 1e-3.\" % type(self), FutureWarning)\n",
      "/Users/franklindickinson/anaconda3/lib/python3.6/site-packages/sklearn/linear_model/stochastic_gradient.py:128: FutureWarning: max_iter and tol parameters have been added in <class 'sklearn.linear_model.stochastic_gradient.SGDClassifier'> in 0.19. If both are left unset, they default to max_iter=5 and tol=None. If tol is not None, max_iter defaults to max_iter=1000. From 0.21, default max_iter will be 1000, and default tol will be 1e-3.\n",
      "  \"and default tol will be 1e-3.\" % type(self), FutureWarning)\n",
      "/Users/franklindickinson/anaconda3/lib/python3.6/site-packages/sklearn/linear_model/stochastic_gradient.py:128: FutureWarning: max_iter and tol parameters have been added in <class 'sklearn.linear_model.stochastic_gradient.SGDClassifier'> in 0.19. If both are left unset, they default to max_iter=5 and tol=None. If tol is not None, max_iter defaults to max_iter=1000. From 0.21, default max_iter will be 1000, and default tol will be 1e-3.\n",
      "  \"and default tol will be 1e-3.\" % type(self), FutureWarning)\n"
     ]
    }
   ],
   "source": [
    "y_scores_sgd_log = cross_val_predict(text_sgd_log,\n",
    "                                     X_train,\n",
    "                                     y_train,\n",
    "                                     cv=3,\n",
    "                                     method=\"decision_function\")"
   ]
  },
  {
   "cell_type": "code",
   "execution_count": 155,
   "metadata": {},
   "outputs": [],
   "source": [
    "fpr_sgd_log, tpr_sgd_log, thresholds_sgd_log = roc_curve(y_train, y_scores_sgd_log)"
   ]
  },
  {
   "cell_type": "code",
   "execution_count": 156,
   "metadata": {},
   "outputs": [],
   "source": [
    "precision_sgd_log, recall_sgd_log, threshold_sgd_log = precision_recall_curve(y_train,\n",
    "                                                                  y_scores_sgd_log)"
   ]
  },
  {
   "cell_type": "code",
   "execution_count": 157,
   "metadata": {},
   "outputs": [
    {
     "name": "stdout",
     "output_type": "stream",
     "text": [
      "SGD AUC = 0.68878\n"
     ]
    }
   ],
   "source": [
    "print(\"SGD AUC = \"+str(round(roc_auc_score(y_train,\n",
    "                                           y_train_pred_sgd_log),5)))"
   ]
  },
  {
   "cell_type": "code",
   "execution_count": 158,
   "metadata": {},
   "outputs": [
    {
     "data": {
      "image/png": "[encoded data removed]",
      "text/plain": [
       "<matplotlib.figure.Figure at 0x1a18af4630>"
      ]
     },
     "metadata": {},
     "output_type": "display_data"
    }
   ],
   "source": [
    "plt.axis([0,1,0,1])\n",
    "plt.xlabel(\"Recall\")\n",
    "plt.ylabel(\"Precision\")\n",
    "\n",
    "plt.plot(recall_svc,precision_svc,color=\"darkred\",linestyle=\"-\",linewidth=2,label=\"Support Vector Classifier\")\n",
    "plt.plot(recall_sgd_svc,precision_sgd_svc,color=\"darksalmon\",linestyle=\":\",linewidth=2,label=\"SGD - Support Vector Classifier\")\n",
    "\n",
    "\n",
    "plt.plot(recall_logr_swr,precision_logr_swr,color=\"midnightblue\",linestyle=\"--\",linewidth=2,label=\"Logistic Regession\")\n",
    "plt.plot(recall_sgd_log,precision_sgd_log,color=\"cornflowerblue\",linestyle=\":\",linewidth=2,label=\"SGD - Logistic Regression\")\n",
    "\n",
    "\n",
    "\n",
    "plt.legend(loc=\"upper right\")\n",
    "plt.show()"
   ]
  },
  {
   "cell_type": "code",
   "execution_count": 159,
   "metadata": {},
   "outputs": [
    {
     "data": {
      "image/png": "[encoded data removed]",
      "text/plain": [
       "<matplotlib.figure.Figure at 0x1a18af4d68>"
      ]
     },
     "metadata": {},
     "output_type": "display_data"
    }
   ],
   "source": [
    "plt.axis([0,1,0,1])\n",
    "plt.plot([0,1],[0,1],'k--')\n",
    "\n",
    "plt.xlabel(\"False Positive Rate\")\n",
    "plt.ylabel(\"True Positive Rate\")\n",
    "\n",
    "\n",
    "plt.plot(fpr_svc,tpr_svc,color=\"darkred\",linestyle=\"-\",linewidth=2,label=\"Support Vector Classifier\")\n",
    "plt.plot(fpr_sgd_svc,tpr_sgd_svc,color=\"darksalmon\",linestyle=\":\",linewidth=2,label=\"Support Vector Classifier - SGD\")\n",
    "\n",
    "plt.plot(fpr_logr_swr,tpr_logr_swr,color=\"midnightblue\",linestyle=\"--\",linewidth=2,label=\"Logistic Regession\")\n",
    "plt.plot(fpr_sgd_log,tpr_sgd_log,color=\"cornflowerblue\",linestyle=\":\",linewidth=2,label=\"Logistic Regression - SGD\")\n",
    "\n",
    "plt.legend(loc=\"lower right\")\n",
    "plt.show()"
   ]
  },
  {
   "cell_type": "markdown",
   "metadata": {},
   "source": [
    "# Tune HyperParameters via Testing F1 Score"
   ]
  },
  {
   "cell_type": "code",
   "execution_count": 160,
   "metadata": {},
   "outputs": [],
   "source": [
    "hyperParameter_C = [1.3,1.4,1.5,1.6,1.7]\n",
    "f1_trainList_logr = []\n",
    "f1_testList_logr = []\n",
    "\n",
    "for c in hyperParameter_C:\n",
    "    text_logr = Pipeline([('vect', stemmed_count_vect),\n",
    "                    ('tfidf', TfidfTransformer()),\n",
    "                    ('log', LogisticRegression(class_weight = \"balanced\",\n",
    "                                              C = c))])\n",
    "#fit onto training data and get f1 score\n",
    "    text_logr = text_logr.fit(X_train,y_train)\n",
    "    y_pred_logr = text_logr.predict(X_train)\n",
    "    y_train_f1_score = round(f1_score(y_train, y_pred_logr),5)\n",
    "    f1_trainList_logr.append(y_train_f1_score)\n",
    "    \n",
    "#predict test data f1 score \n",
    "    y_test_pred_logr = text_logr.predict(X_test)\n",
    "    y_test_f1_score = round(f1_score(y_test, y_test_pred_logr),5)\n",
    "    f1_testList_logr.append(y_test_f1_score)\n"
   ]
  },
  {
   "cell_type": "code",
   "execution_count": 161,
   "metadata": {},
   "outputs": [
    {
     "data": {
      "text/plain": [
       "[0.57534, 0.5761, 0.57705, 0.57665, 0.57583]"
      ]
     },
     "execution_count": 161,
     "metadata": {},
     "output_type": "execute_result"
    }
   ],
   "source": [
    "f1_testList_logr"
   ]
  },
  {
   "cell_type": "code",
   "execution_count": 162,
   "metadata": {},
   "outputs": [
    {
     "data": {
      "text/plain": [
       "[0.73204, 0.73651, 0.7403, 0.7433, 0.74598]"
      ]
     },
     "execution_count": 162,
     "metadata": {},
     "output_type": "execute_result"
    }
   ],
   "source": [
    "f1_trainList_logr"
   ]
  },
  {
   "cell_type": "code",
   "execution_count": 163,
   "metadata": {},
   "outputs": [],
   "source": [
    "logr_hyperParameter_C_df = pd.DataFrame({\n",
    "    'C' : hyperParameter_C,\n",
    "    'F1 Training Score': f1_trainList_logr,\n",
    "    'F1 Test Score' : f1_testList_logr\n",
    "})"
   ]
  },
  {
   "cell_type": "code",
   "execution_count": 164,
   "metadata": {},
   "outputs": [
    {
     "data": {
      "image/png": "[encoded data removed]",
      "text/plain": [
       "<matplotlib.figure.Figure at 0x1a183b4630>"
      ]
     },
     "metadata": {},
     "output_type": "display_data"
    }
   ],
   "source": [
    "ax = logr_hyperParameter_C_df.plot(x=\"C\", y=\"F1 Training Score\", legend=False)\n",
    "plt.ylabel(\"F1 Training Score\")\n",
    "ax2 = ax.twinx()\n",
    "logr_hyperParameter_C_df.plot(x=\"C\", y=\"F1 Test Score\", ax=ax2, legend=False, color=\"r\")\n",
    "ax.figure.legend()\n",
    "plt.ylabel(\"F1 Test Score\")\n",
    "plt.title(\"Logistic Regression\")\n",
    "plt.show()"
   ]
  },
  {
   "cell_type": "code",
   "execution_count": 165,
   "metadata": {},
   "outputs": [],
   "source": [
    "hyperParameter_C = [1.3,1.4,1.5,1.6,1.7]\n",
    "f1_trainList_svc = []\n",
    "f1_testList_svc = []\n",
    "\n",
    "for c in hyperParameter_C:\n",
    "    text_svc = Pipeline([('vect', stemmed_count_vect),\n",
    "                        ('tfidf', TfidfTransformer()),\n",
    "                        ('svc', LinearSVC(loss='hinge', \n",
    "                                          class_weight=\"balanced\",\n",
    "                                         C = c))])\n",
    "    \n",
    "#fit onto training data and get f1 score\n",
    "    text_svc = text_svc.fit(X_train,y_train)\n",
    "    y_pred_svc = text_svc.predict(X_train)\n",
    "    y_train_f1_score = round(f1_score(y_train, y_pred_svc),5)\n",
    "    f1_trainList_svc.append(y_train_f1_score)\n",
    "    \n",
    "#predict test data f1 score \n",
    "    y_test_pred_svc = text_svc.predict(X_test)\n",
    "    y_test_f1_score = round(f1_score(y_test, y_test_pred_svc),5)\n",
    "    f1_testList_svc.append(y_test_f1_score)\n"
   ]
  },
  {
   "cell_type": "code",
   "execution_count": 166,
   "metadata": {},
   "outputs": [
    {
     "data": {
      "text/plain": [
       "[0.76715, 0.77088, 0.77396, 0.77735, 0.78048]"
      ]
     },
     "execution_count": 166,
     "metadata": {},
     "output_type": "execute_result"
    }
   ],
   "source": [
    "f1_trainList_svc"
   ]
  },
  {
   "cell_type": "code",
   "execution_count": 167,
   "metadata": {},
   "outputs": [
    {
     "data": {
      "text/plain": [
       "[0.57502, 0.57562, 0.57543, 0.5731, 0.5729]"
      ]
     },
     "execution_count": 167,
     "metadata": {},
     "output_type": "execute_result"
    }
   ],
   "source": [
    "f1_testList_svc"
   ]
  },
  {
   "cell_type": "code",
   "execution_count": 168,
   "metadata": {},
   "outputs": [],
   "source": [
    "svc_hyperParameter_C_df = pd.DataFrame({\n",
    "    'C' : hyperParameter_C,\n",
    "    'F1 Training Score': f1_trainList_svc,\n",
    "    'F1 Test Score' : f1_testList_svc\n",
    "})"
   ]
  },
  {
   "cell_type": "code",
   "execution_count": 169,
   "metadata": {},
   "outputs": [
    {
     "data": {
      "image/png": "[encoded data removed]",
      "text/plain": [
       "<matplotlib.figure.Figure at 0x1a1885b0b8>"
      ]
     },
     "metadata": {},
     "output_type": "display_data"
    }
   ],
   "source": [
    "ax = svc_hyperParameter_C_df.plot(x=\"C\", y=\"F1 Training Score\", legend=False)\n",
    "plt.ylabel(\"F1 Training Score\")\n",
    "ax2 = ax.twinx()\n",
    "svc_hyperParameter_C_df.plot(x=\"C\", y=\"F1 Test Score\", ax=ax2, legend=False, color=\"r\")\n",
    "plt.ylabel(\"F1 Test Score\")\n",
    "ax.figure.legend()\n",
    "\n",
    "plt.title(\"Support Vector Classifier\")\n",
    "plt.show()"
   ]
  },
  {
   "cell_type": "markdown",
   "metadata": {},
   "source": [
    "# Choose final full model via score:"
   ]
  },
  {
   "cell_type": "markdown",
   "metadata": {},
   "source": [
    "### logistic regression"
   ]
  },
  {
   "cell_type": "code",
   "execution_count": 170,
   "metadata": {},
   "outputs": [],
   "source": [
    "text_logr = Pipeline([('vect',CountVectorizer()),\n",
    "                    ('tfidf', TfidfTransformer()),\n",
    "                    ('log', LogisticRegression(class_weight = \"balanced\",\n",
    "                                              C = 1.5))])"
   ]
  },
  {
   "cell_type": "code",
   "execution_count": 171,
   "metadata": {},
   "outputs": [],
   "source": [
    "text_logr = text_logr.fit(X_train, y_train)"
   ]
  },
  {
   "cell_type": "code",
   "execution_count": 172,
   "metadata": {},
   "outputs": [],
   "source": [
    "y_train_pred_logr = cross_val_predict(text_logr, X_train, y_train, cv=3)"
   ]
  },
  {
   "cell_type": "code",
   "execution_count": 173,
   "metadata": {},
   "outputs": [
    {
     "data": {
      "text/plain": [
       "array([[20825,  6339],\n",
       "       [ 3694,  6449]])"
      ]
     },
     "execution_count": 173,
     "metadata": {},
     "output_type": "execute_result"
    }
   ],
   "source": [
    "confusion_matrix(y_train,y_train_pred_logr)"
   ]
  },
  {
   "cell_type": "code",
   "execution_count": 174,
   "metadata": {},
   "outputs": [
    {
     "name": "stdout",
     "output_type": "stream",
     "text": [
      "Accuracy Score = 0.73107\n",
      "Precision Score = 0.5043\n",
      "Recall Score = 0.63581\n",
      "F1 Score = 0.56247\n"
     ]
    }
   ],
   "source": [
    "accuracy_precision_recall_F1(y_train, y_train_pred_logr)"
   ]
  },
  {
   "cell_type": "code",
   "execution_count": 175,
   "metadata": {},
   "outputs": [],
   "source": [
    "y_test_pred_logr = text_logr.predict(X_test)"
   ]
  },
  {
   "cell_type": "code",
   "execution_count": 176,
   "metadata": {},
   "outputs": [
    {
     "data": {
      "text/plain": [
       "array([[10348,  3032],\n",
       "       [ 1707,  3289]])"
      ]
     },
     "execution_count": 176,
     "metadata": {},
     "output_type": "execute_result"
    }
   ],
   "source": [
    "confusion_matrix(y_test,y_test_pred_logr)"
   ]
  },
  {
   "cell_type": "code",
   "execution_count": 177,
   "metadata": {},
   "outputs": [
    {
     "name": "stdout",
     "output_type": "stream",
     "text": [
      "Accuracy Score = 0.74211\n",
      "Precision Score = 0.52033\n",
      "Recall Score = 0.65833\n",
      "F1 Score = 0.58125\n"
     ]
    }
   ],
   "source": [
    "accuracy_precision_recall_F1(y_test,y_test_pred_logr)"
   ]
  },
  {
   "cell_type": "code",
   "execution_count": 178,
   "metadata": {},
   "outputs": [],
   "source": [
    "# get predict probability "
   ]
  },
  {
   "cell_type": "code",
   "execution_count": 179,
   "metadata": {},
   "outputs": [],
   "source": [
    "y_test_pred_proba_logr = text_logr.fit(X_train, y_train).predict_proba(X_test)\n",
    "y_test_pred_proba_logr = y_test_pred_proba_logr[:, 1]"
   ]
  },
  {
   "cell_type": "code",
   "execution_count": 180,
   "metadata": {},
   "outputs": [],
   "source": [
    "fpr_test_logr, tpr_test_logr, thresholds_test_logr = roc_curve(y_test,\n",
    "                                                               y_test_pred_proba_logr)"
   ]
  },
  {
   "cell_type": "code",
   "execution_count": 181,
   "metadata": {},
   "outputs": [],
   "source": [
    "precision_test_logr, recall_test_logr, threshold_test_logr = precision_recall_curve(y_test,\n",
    "                                                                  y_test_pred_proba_logr)"
   ]
  },
  {
   "cell_type": "code",
   "execution_count": 182,
   "metadata": {},
   "outputs": [
    {
     "name": "stdout",
     "output_type": "stream",
     "text": [
      "Linear Regression Test AUC = 0.78911\n"
     ]
    }
   ],
   "source": [
    "print(\"Linear Regression Test AUC = \"+str(round(roc_auc_score(y_test,\n",
    "                                           y_test_pred_proba_logr),5)))"
   ]
  },
  {
   "cell_type": "markdown",
   "metadata": {},
   "source": [
    "### support vector classifier - linear"
   ]
  },
  {
   "cell_type": "code",
   "execution_count": 183,
   "metadata": {},
   "outputs": [],
   "source": [
    "text_svc = Pipeline([('vect', stemmed_count_vect),\n",
    "                     ('tfidf', TfidfTransformer()),\n",
    "                     ('svc', LinearSVC(loss='hinge', \n",
    "                                          class_weight=\"balanced\",\n",
    "                                         C = 1.5))])"
   ]
  },
  {
   "cell_type": "code",
   "execution_count": 184,
   "metadata": {},
   "outputs": [],
   "source": [
    "text_svc = text_svc.fit(X_train, y_train)"
   ]
  },
  {
   "cell_type": "code",
   "execution_count": 185,
   "metadata": {},
   "outputs": [],
   "source": [
    "y_train_pred_svc = cross_val_predict(text_svc, X_train, y_train, cv=3)"
   ]
  },
  {
   "cell_type": "code",
   "execution_count": 186,
   "metadata": {},
   "outputs": [
    {
     "data": {
      "text/plain": [
       "array([[20913,  6251],\n",
       "       [ 3948,  6195]])"
      ]
     },
     "execution_count": 186,
     "metadata": {},
     "output_type": "execute_result"
    }
   ],
   "source": [
    "confusion_matrix(y_train,y_train_pred_svc)"
   ]
  },
  {
   "cell_type": "code",
   "execution_count": 187,
   "metadata": {},
   "outputs": [
    {
     "name": "stdout",
     "output_type": "stream",
     "text": [
      "Accuracy Score = 0.72662\n",
      "Precision Score = 0.49775\n",
      "Recall Score = 0.61077\n",
      "F1 Score = 0.5485\n"
     ]
    }
   ],
   "source": [
    "accuracy_precision_recall_F1(y_train, y_train_pred_svc)"
   ]
  },
  {
   "cell_type": "code",
   "execution_count": 188,
   "metadata": {},
   "outputs": [],
   "source": [
    "y_test_pred_svc = text_svc.predict(X_test)"
   ]
  },
  {
   "cell_type": "code",
   "execution_count": 189,
   "metadata": {},
   "outputs": [
    {
     "data": {
      "text/plain": [
       "array([[10434,  2946],\n",
       "       [ 1788,  3208]])"
      ]
     },
     "execution_count": 189,
     "metadata": {},
     "output_type": "execute_result"
    }
   ],
   "source": [
    "confusion_matrix(y_test,y_test_pred_svc)"
   ]
  },
  {
   "cell_type": "code",
   "execution_count": 190,
   "metadata": {},
   "outputs": [
    {
     "name": "stdout",
     "output_type": "stream",
     "text": [
      "Accuracy Score = 0.74238\n",
      "Precision Score = 0.52129\n",
      "Recall Score = 0.64211\n",
      "F1 Score = 0.57543\n"
     ]
    }
   ],
   "source": [
    "accuracy_precision_recall_F1(y_test,y_test_pred_svc)"
   ]
  },
  {
   "cell_type": "code",
   "execution_count": null,
   "metadata": {},
   "outputs": [],
   "source": [
    "from sklearn.svm import SVC"
   ]
  },
  {
   "cell_type": "code",
   "execution_count": null,
   "metadata": {},
   "outputs": [],
   "source": [
    "'''\n",
    "text_svc_probability = Pipeline([('vect', stemmed_count_vect),\n",
    "                     ('tfidf', TfidfTransformer()),\n",
    "                     ('svc', SVC(kernel = \"linear\",\n",
    "                                 class_weight=\"balanced\",\n",
    "                                 C=1.5,\n",
    "                                 probability=True\n",
    "                     ))])\n",
    "                     '''"
   ]
  },
  {
   "cell_type": "code",
   "execution_count": null,
   "metadata": {},
   "outputs": [],
   "source": [
    "text_svc_probability = text_svc_probability.fit(X_train, y_train)"
   ]
  },
  {
   "cell_type": "code",
   "execution_count": null,
   "metadata": {},
   "outputs": [],
   "source": [
    "y_test_pred_proba_svc = text_svc_probability.predict(X_test)"
   ]
  },
  {
   "cell_type": "code",
   "execution_count": null,
   "metadata": {},
   "outputs": [],
   "source": [
    "confusion_matrix(y_test,y_test_pred_proba_svc)"
   ]
  },
  {
   "cell_type": "code",
   "execution_count": null,
   "metadata": {},
   "outputs": [],
   "source": [
    "fpr_test_svc, tpr_test_svc, thresholds_test_svc = roc_curve(y_test,\n",
    "                                                               y_test_pred_proba_svc)"
   ]
  },
  {
   "cell_type": "code",
   "execution_count": null,
   "metadata": {},
   "outputs": [],
   "source": [
    "precision_test_svc, recall_test_svc, threshold_test_svc = precision_recall_curve(y_test,\n",
    "                                                                  y_test_pred_proba_svc)"
   ]
  },
  {
   "cell_type": "code",
   "execution_count": null,
   "metadata": {},
   "outputs": [],
   "source": [
    "print(\"Linear Regression Test AUC = \"+str(round(roc_auc_score(y_test,\n",
    "                                           y_test_pred_proba_svc),5)))"
   ]
  },
  {
   "cell_type": "code",
   "execution_count": null,
   "metadata": {},
   "outputs": [],
   "source": [
    "tpr_test_logr.shape"
   ]
  },
  {
   "cell_type": "code",
   "execution_count": null,
   "metadata": {},
   "outputs": [],
   "source": [
    "plt.axis([0,1,0,1])\n",
    "plt.plot([0,1],[0,1],'k--')\n",
    "\n",
    "plt.xlabel(\"False Positive Rate\")\n",
    "plt.ylabel(\"True Positive Rate\")\n",
    "\n",
    "plt.plot(fpr_test_svc,tpr_test_svc,color=\"darkred\",linewidth=2,label=\"Support Vector Classifier - Test\")\n",
    "plt.plot(fpr_test_logr,tpr_test_logr,color=\"midnightblue\",linewidth=2,label=\"Logistic Regession - Test\")\n",
    "\n",
    "plt.legend(loc=\"lower right\")\n",
    "plt.show()"
   ]
  },
  {
   "cell_type": "markdown",
   "metadata": {},
   "source": [
    "# Filtered Words"
   ]
  },
  {
   "cell_type": "code",
   "execution_count": 191,
   "metadata": {},
   "outputs": [],
   "source": [
    "from textblob import TextBlob"
   ]
  },
  {
   "cell_type": "code",
   "execution_count": 192,
   "metadata": {},
   "outputs": [],
   "source": [
    "forum['postText_tb'] = forum['postText'].apply(lambda row: TextBlob(row))"
   ]
  },
  {
   "cell_type": "markdown",
   "metadata": {},
   "source": [
    "### direct filter"
   ]
  },
  {
   "cell_type": "code",
   "execution_count": 193,
   "metadata": {},
   "outputs": [],
   "source": [
    "#Trump\n",
    "list_post_trump = []\n",
    "list_post_trump.append(forum['postText_tb'].apply(lambda row: row.word_counts['trump']))\n",
    "forum['postText_trump'] = list_post_trump[0]\n",
    "\n",
    "forum_pt_trump = forum[(forum['postText_trump'] > 0)]\n",
    "\n",
    "\n",
    "#Obama\n",
    "list_post_obama = []\n",
    "list_post_obama.append(forum['postText_tb'].apply(lambda row: row.word_counts['obama']))\n",
    "forum['postText_obama'] = list_post_obama[0]\n",
    "\n",
    "forum_pt_obama = forum[(forum['postText_obama'] > 0)]"
   ]
  },
  {
   "cell_type": "code",
   "execution_count": 194,
   "metadata": {},
   "outputs": [],
   "source": [
    "forum_model_trump = forum_pt_trump[['postText','sLeftRight']]\n",
    "forum_model_trump = forum_model_trump[(forum_model_trump['sLeftRight'] == 'Conservative') | (forum_model_trump['sLeftRight'] == 'Liberal')]\n",
    "forum_model_trump['sLeftRight'] = np.where(forum_model_trump['sLeftRight'] == 'Conservative', 0, 1)\n",
    "\n",
    "forum_model_obama = forum_pt_obama[['postText','sLeftRight']]\n",
    "forum_model_obama = forum_model_obama[(forum_model_obama['sLeftRight'] == 'Conservative') | (forum_model_obama['sLeftRight'] == 'Liberal')]\n",
    "forum_model_obama['sLeftRight'] = np.where(forum_model_obama['sLeftRight'] == 'Conservative', 0, 1)"
   ]
  },
  {
   "cell_type": "code",
   "execution_count": 265,
   "metadata": {},
   "outputs": [
    {
     "data": {
      "text/plain": [
       "(7098, 2)"
      ]
     },
     "execution_count": 265,
     "metadata": {},
     "output_type": "execute_result"
    }
   ],
   "source": [
    "forum_model_trump.shape"
   ]
  },
  {
   "cell_type": "code",
   "execution_count": 266,
   "metadata": {},
   "outputs": [
    {
     "data": {
      "text/plain": [
       "0    5787\n",
       "1    1311\n",
       "Name: sLeftRight, dtype: int64"
      ]
     },
     "execution_count": 266,
     "metadata": {},
     "output_type": "execute_result"
    }
   ],
   "source": [
    "forum_model_trump['sLeftRight'].value_counts()"
   ]
  },
  {
   "cell_type": "code",
   "execution_count": 267,
   "metadata": {},
   "outputs": [
    {
     "data": {
      "text/plain": [
       "(4018, 2)"
      ]
     },
     "execution_count": 267,
     "metadata": {},
     "output_type": "execute_result"
    }
   ],
   "source": [
    "forum_model_obama.shape"
   ]
  },
  {
   "cell_type": "code",
   "execution_count": 268,
   "metadata": {},
   "outputs": [
    {
     "data": {
      "text/plain": [
       "0    3552\n",
       "1     466\n",
       "Name: sLeftRight, dtype: int64"
      ]
     },
     "execution_count": 268,
     "metadata": {},
     "output_type": "execute_result"
    }
   ],
   "source": [
    "forum_model_obama['sLeftRight'].value_counts()"
   ]
  },
  {
   "cell_type": "markdown",
   "metadata": {},
   "source": [
    "### newsapi filter"
   ]
  },
  {
   "cell_type": "code",
   "execution_count": null,
   "metadata": {},
   "outputs": [],
   "source": [
    "#via newsapi.com"
   ]
  },
  {
   "cell_type": "code",
   "execution_count": 195,
   "metadata": {},
   "outputs": [],
   "source": [
    "from newsapi import NewsApiClient"
   ]
  },
  {
   "cell_type": "code",
   "execution_count": 196,
   "metadata": {},
   "outputs": [],
   "source": [
    "newsapi = NewsApiClient(api_key='a3480db49762474aa3fb817a27c509b6')"
   ]
  },
  {
   "cell_type": "code",
   "execution_count": 197,
   "metadata": {},
   "outputs": [],
   "source": [
    "def get_top_n_words(corpus, n=50):\n",
    "    \"\"\"\n",
    "    List the top n words in a vocabulary according to occurrence in a text corpus.\n",
    "    \"\"\"\n",
    "    vec = CountVectorizer(stop_words='english').fit(corpus)\n",
    "    bag_of_words = vec.transform(corpus)\n",
    "    sum_words = bag_of_words.sum(axis=0) \n",
    "    words_freq = [(word, sum_words[0, idx]) for word, idx in     vec.vocabulary_.items()]\n",
    "    words_freq =sorted(words_freq, key = lambda x: x[1], reverse=True)\n",
    "    return words_freq[:n]"
   ]
  },
  {
   "cell_type": "code",
   "execution_count": 198,
   "metadata": {},
   "outputs": [],
   "source": [
    "def most_freq_news_terms(term, top_terms=50):\n",
    "    term_articles = newsapi.get_everything(q=term,\n",
    "                                    from_param='2018-06-11',\n",
    "                                    to='2018-07-10',\n",
    "                                    language='en',\n",
    "                                    sort_by='relevancy',\n",
    "                                    page_size=100,\n",
    "                                    page=1)\n",
    "        \n",
    "    articleList = []\n",
    "    for article_title in term_articles['articles']:\n",
    "        if article_title['description'] is not None:\n",
    "            articleList.append(article_title['description'])\n",
    "\n",
    "    return get_top_n_words(articleList,n=top_terms)"
   ]
  },
  {
   "cell_type": "code",
   "execution_count": 199,
   "metadata": {},
   "outputs": [],
   "source": [
    "def search_most_freq_terms(search_list, top_terms):\n",
    "    final_list = []\n",
    "    for search_term in search_list:\n",
    "        term_list =  most_freq_news_terms(search_term, top_terms)\n",
    "        final_list = final_list + term_list\n",
    "    return (final_list)"
   ]
  },
  {
   "cell_type": "code",
   "execution_count": 334,
   "metadata": {},
   "outputs": [],
   "source": [
    "search_list = ['barack obama','donald trump','hilary clinton', 'robert mueller','fbi investigation', 'fake news', 'foreign policy', 'bernie sanders', 'health care', '2016 election','charlottesville riots']\n",
    "\n",
    "termlist_full = [x[0] for x in search_most_freq_terms(search_list, 30)]"
   ]
  },
  {
   "cell_type": "code",
   "execution_count": 335,
   "metadata": {},
   "outputs": [
    {
     "name": "stdout",
     "output_type": "stream",
     "text": [
      "['obama', 'barack', 'president', 'school', 'trump', 'elementary', 'richmond', 'general', 'virginia', 'new', 'confederate', 'capital', 'venture', 'public', 'post', 'visited', 'donald', 'silicon', 'valley', 'firm', 'washington', 'prominent', 'named', 'fu', 'white', 'house', 'stuart', 'leader', 'photo', 'black', 'trump', 'donald', 'president', 'images', 'know', 'meme', 'com', 'north', 'korea', 'states', 'watch', 'fake', 'news', 'truth', 'says', 'order', 'singapore', 'hard', 'kim', 'twitter', 'new', 'big', 'funny', 'people', 'week', 'time', 'nuclear', 'post', 'york', 'just', 'trump', 'clinton', 'hilary', 'president', 'donald', 'party', 'justice', 'election', 'vote', 'didn', 'news', 'saelune', 'people', 'voted', 'video', 'breakfastman', 'media', 'way', 'children', 'investigation', 'supreme', 'court', 'said', 'department', 'gaming', 'prosecutor', 'social', 'county', 'fbi', 'series', 'mueller', 'robert', 'special', 'counsel', 'trump', 'president', 'investigation', 'donald', 'russia', 'probe', 'new', 'campaign', 'russian', 'giuliani', 'fbi', 'michael', 'manafort', 'team', 'adviser', 'prosecutors', 'federal', 'election', 'says', 'lawyer', 'justice', 'news', 'rudy', 'interview', '2016', 'possible', 'fbi', 'investigation', 'clinton', 'report', 'general', 'inspector', 'trump', 'director', 'justice', 'department', 'email', 'hillary', 'doj', 'horowitz', 'comey', 'michael', 'james', 'president', 'agent', 'released', '2016', 'wray', 'attorney', 'federal', 'anti', 'agents', 'ig', 'christopher', 'said', 'special', 'news', 'fake', 'media', 'trump', 'post', 'president', 'appeared', 'social', 'cnn', 'new', 'bbc', 'facebook', 'real', 'story', 'political', 'stories', 'wants', 'biggest', 'like', 'sources', 'source', 'chrome', 'fox', 'said', 'americans', 'know', 'election', 'immigration', 'reporting', 'read', 'foreign', 'policy', 'trump', 'president', 'new', 'america', 'administration', 'donald', 'post', 'india', 'iran', 'international', 'summit', 'secretary', 'minister', 'key', 'power', 'diplomacy', 'government', 'world', 'kim', 'important', 'appeared', 'relations', 'nation', 'doctrine', 'erdogan', 'tough', 'state', 'right', 'sanders', 'bernie', 'sen', 'vermont', 'democratic', 'senator', 'vt', 'immigration', 'son', 'nomination', 'new', 'politics', 'trump', 'left', 'presidential', 'ocasio', 'cortez', 'protesters', 'news', 'post', 'alexandria', 'president', 'va', 'told', 'crowd', 'ready', 'challenge', 'ice', 'customs', 'enforcement', 'health', 'care', 'new', 'costs', 'national', 'company', 'hospitals', 'state', 'services', 'based', 'massachusetts', 'insurers', 'patients', 'medical', 'insurance', 'healthcare', 'business', 'improve', 'house', 'people', 'page', 'administration', 'primary', 'school', 'coalition', 'major', 'million', 'assessments', 'coverage', 'time', 'election', '2016', 'trump', 'presidential', 'department', 'president', 'russian', 'fbi', 'officials', 'russia', 'state', 'campaign', 'intelligence', 'clinton', 'hillary', 'justice', 'report', 'senate', 'donald', 'obama', 'investigation', 'arpaio', 'said', 'phoenix', 'ap', 'joe', 'meddled', 'committee', 'federal', 'news', 'white', 'year', 'trump', 'day', 'virginia', 'right', 'post', 'line', 'charlottesville', 'supremacist', 'death', 'hottest', 'photos', 'divs', 'great', 'american', 'security', 'michael', 'violence', '2020', 'national', 'july', 'bloomberg', 'entire', 'issues', 'summer', 'video', 'riots', 'african', 'man']\n"
     ]
    }
   ],
   "source": [
    "print(termlist_full)"
   ]
  },
  {
   "cell_type": "code",
   "execution_count": 318,
   "metadata": {},
   "outputs": [],
   "source": [
    "forum_p = forum.copy()\n",
    "\n",
    "for term in termlist_full:\n",
    "    forum_p[term] = forum_p['postText'].apply(lambda row: row.count(term))\n",
    "\n",
    "forum_p['full_sum'] = forum_p.sum(axis=1)\n",
    "\n",
    "forum_p = forum_p[(forum_p['full_sum'] > 3)]\n",
    "forum_p = forum_p[['postText','sLeftRight']]\n",
    "forum_p = forum_p[(forum_p['sLeftRight'] == 'Conservative') | (forum_p['sLeftRight'] == 'Liberal')]\n",
    "forum_p['sLeftRight'] = np.where(forum_p['sLeftRight'] == 'Conservative', 0, 1)\n",
    "forum_p = forum_p.reset_index(drop=True)"
   ]
  },
  {
   "cell_type": "code",
   "execution_count": 319,
   "metadata": {},
   "outputs": [
    {
     "data": {
      "text/plain": [
       "(30532, 2)"
      ]
     },
     "execution_count": 319,
     "metadata": {},
     "output_type": "execute_result"
    }
   ],
   "source": [
    "forum_p.shape"
   ]
  },
  {
   "cell_type": "code",
   "execution_count": 320,
   "metadata": {},
   "outputs": [
    {
     "data": {
      "text/plain": [
       "0    25646\n",
       "1     4886\n",
       "Name: sLeftRight, dtype: int64"
      ]
     },
     "execution_count": 320,
     "metadata": {},
     "output_type": "execute_result"
    }
   ],
   "source": [
    "forum_p['sLeftRight'].value_counts()"
   ]
  },
  {
   "cell_type": "code",
   "execution_count": 285,
   "metadata": {},
   "outputs": [],
   "source": [
    "search_list_trump = ['trump']\n",
    "search_list_obama = ['obama']\n",
    "\n",
    "termlist_trump = [x[0] for x in search_most_freq_terms(search_list_trump, 50)]\n",
    "termlist_obama = [x[0] for x in search_most_freq_terms(search_list_obama, 50)]\n"
   ]
  },
  {
   "cell_type": "code",
   "execution_count": 286,
   "metadata": {},
   "outputs": [
    {
     "name": "stdout",
     "output_type": "stream",
     "text": [
      "['trump', 'donald', 'president', 'foundation', 'new', 'illegal', 'ivanka', 'york', 'conduct', 'general', 'attorney', 'lawsuit', 'jr', 'baby', 'underwood', 'news', 'eric', 'sues', 'family', 'said', 'times', 'video', 'ny', 'children', '25', 'filed', 'barbara', 'media', 'niro', 'tweeted', 'independence', 'decade', 'directors', 'did', 'people', 'latest', 'washington', 'post', 'london', 'night', 'melania', 'military', 'themed', 'day', 'book', 'border', 'left', '11', 'liberals', 'state']\n"
     ]
    }
   ],
   "source": [
    "print(termlist_trump)"
   ]
  },
  {
   "cell_type": "code",
   "execution_count": 287,
   "metadata": {},
   "outputs": [
    {
     "name": "stdout",
     "output_type": "stream",
     "text": [
      "['obama', 'president', 'barack', 'trump', 'administration', 'new', 'washington', 'did', 'post', 'donald', 'house', 'meet', 'white', 'democratic', 'border', 'said', 'people', 'york', 'year', 'children', 'russian', 'putin', 'clinton', 'party', 'policy', 'immigration', 'american', 'public', 'crimea', 'africa', 'week', 'thursday', 'fundraiser', 'msnbc', 'saying', 'times', 'office', 'private', 'world', 'say', 'talk', 'years', 'virtually', 'families', 'vote', 'child', 'summer', 'presidents', 'hillary', 'south']\n"
     ]
    }
   ],
   "source": [
    "print(termlist_obama)"
   ]
  },
  {
   "cell_type": "code",
   "execution_count": 288,
   "metadata": {},
   "outputs": [],
   "source": [
    "forum_p_trump = forum.copy()\n",
    "\n",
    "for term in termlist_trump:\n",
    "    forum_p_trump[term] = forum_p_trump['postText'].apply(lambda row: row.count(term))\n",
    "\n",
    "forum_p_trump['full_sum'] = forum_p_trump.sum(axis=1)\n",
    "\n",
    "forum_p_trump = forum_p_trump[(forum_p_trump['full_sum'] > 1)]\n",
    "forum_p_trump = forum_p_trump[['postText','sLeftRight']]\n",
    "forum_p_trump = forum_p_trump[(forum_p_trump['sLeftRight'] == 'Conservative') | (forum_p_trump['sLeftRight'] == 'Liberal')]\n",
    "forum_p_trump['sLeftRight'] = np.where(forum_p_trump['sLeftRight'] == 'Conservative', 0, 1)\n",
    "forum_p_trump = forum_p_trump.reset_index(drop=True)"
   ]
  },
  {
   "cell_type": "code",
   "execution_count": 289,
   "metadata": {},
   "outputs": [
    {
     "data": {
      "text/plain": [
       "(23207, 2)"
      ]
     },
     "execution_count": 289,
     "metadata": {},
     "output_type": "execute_result"
    }
   ],
   "source": [
    "forum_p_trump.shape"
   ]
  },
  {
   "cell_type": "code",
   "execution_count": 290,
   "metadata": {},
   "outputs": [
    {
     "data": {
      "text/plain": [
       "0    19548\n",
       "1     3659\n",
       "Name: sLeftRight, dtype: int64"
      ]
     },
     "execution_count": 290,
     "metadata": {},
     "output_type": "execute_result"
    }
   ],
   "source": [
    "forum_p_trump['sLeftRight'].value_counts()"
   ]
  },
  {
   "cell_type": "code",
   "execution_count": 291,
   "metadata": {},
   "outputs": [],
   "source": [
    "forum_p_obama = forum.copy()\n",
    "\n",
    "for term in termlist_obama:\n",
    "    forum_p_obama[term] = forum_p_obama['postText'].apply(lambda row: row.count(term))\n",
    "\n",
    "forum_p_obama['full_sum'] = forum_p_obama.sum(axis=1)\n",
    "\n",
    "forum_p_obama = forum_p_obama[(forum_p_obama['full_sum'] > 1)]\n",
    "forum_p_obama = forum_p_obama[['postText','sLeftRight']]\n",
    "forum_p_obama = forum_p_obama[(forum_p_obama['sLeftRight'] == 'Conservative') | (forum_p_obama['sLeftRight'] == 'Liberal')]\n",
    "forum_p_obama['sLeftRight'] = np.where(forum_p_obama['sLeftRight'] == 'Conservative', 0, 1)\n",
    "forum_p_obama = forum_p_obama.reset_index(drop=True)"
   ]
  },
  {
   "cell_type": "code",
   "execution_count": 292,
   "metadata": {},
   "outputs": [
    {
     "data": {
      "text/plain": [
       "(20506, 2)"
      ]
     },
     "execution_count": 292,
     "metadata": {},
     "output_type": "execute_result"
    }
   ],
   "source": [
    "forum_p_obama.shape"
   ]
  },
  {
   "cell_type": "code",
   "execution_count": 293,
   "metadata": {},
   "outputs": [
    {
     "data": {
      "text/plain": [
       "0    16845\n",
       "1     3661\n",
       "Name: sLeftRight, dtype: int64"
      ]
     },
     "execution_count": 293,
     "metadata": {},
     "output_type": "execute_result"
    }
   ],
   "source": [
    "forum_p_obama['sLeftRight'].value_counts()"
   ]
  },
  {
   "cell_type": "code",
   "execution_count": 321,
   "metadata": {},
   "outputs": [],
   "source": [
    "X_train_p, X_test_p, y_train_p, y_test_p = train_test_split(forum_p['postText'], \n",
    "                                                    forum_p['sLeftRight'], \n",
    "                                                    stratify=forum_p['sLeftRight'],\n",
    "                                                    test_size=0.33,\n",
    "                                                    random_state=42)"
   ]
  },
  {
   "cell_type": "code",
   "execution_count": 295,
   "metadata": {},
   "outputs": [],
   "source": [
    "X_train_p_trump, X_test_p_trump, y_train_p_trump, y_test_p_trump = train_test_split(forum_p_trump['postText'], \n",
    "                                                    forum_p_trump['sLeftRight'], \n",
    "                                                    stratify=forum_p_trump['sLeftRight'],\n",
    "                                                    test_size=0.33,\n",
    "                                                    random_state=42)"
   ]
  },
  {
   "cell_type": "code",
   "execution_count": 296,
   "metadata": {},
   "outputs": [],
   "source": [
    "X_train_p_obama, X_test_p_obama, y_train_p_obama, y_test_p_obama = train_test_split(forum_p_obama['postText'], \n",
    "                                                    forum_p_obama['sLeftRight'], \n",
    "                                                    stratify=forum_p_obama['sLeftRight'],\n",
    "                                                    test_size=0.33,\n",
    "                                                    random_state=42)"
   ]
  },
  {
   "cell_type": "code",
   "execution_count": 297,
   "metadata": {},
   "outputs": [],
   "source": [
    "X_train_trump, X_test_trump, y_train_trump, y_test_trump = train_test_split(forum_model_trump['postText'], \n",
    "                                                    forum_model_trump['sLeftRight'], \n",
    "                                                    stratify=forum_model_trump['sLeftRight'],\n",
    "                                                    test_size=0.33,\n",
    "                                                    random_state=42)"
   ]
  },
  {
   "cell_type": "code",
   "execution_count": 298,
   "metadata": {},
   "outputs": [],
   "source": [
    "X_train_obama, X_test_obama, y_train_obama, y_test_obama = train_test_split(forum_model_obama['postText'], \n",
    "                                                    forum_model_obama['sLeftRight'], \n",
    "                                                    stratify=forum_model_obama['sLeftRight'],\n",
    "                                                    test_size=0.33,\n",
    "                                                    random_state=42)"
   ]
  },
  {
   "cell_type": "code",
   "execution_count": 322,
   "metadata": {},
   "outputs": [],
   "source": [
    "text_logr_p = Pipeline([('vect', stemmed_count_vect),\n",
    "                    ('tfidf', TfidfTransformer()),\n",
    "                    ('log', LogisticRegression(class_weight = \"balanced\"))])\n",
    "\n",
    "text_logr_p_trump = Pipeline([('vect', stemmed_count_vect),\n",
    "                    ('tfidf', TfidfTransformer()),\n",
    "                    ('log', LogisticRegression(class_weight = \"balanced\"))])\n",
    "\n",
    "text_logr_p_obama = Pipeline([('vect', stemmed_count_vect),\n",
    "                    ('tfidf', TfidfTransformer()),\n",
    "                    ('log', LogisticRegression(class_weight = \"balanced\"))])\n",
    "\n",
    "\n",
    "text_logr_trump = Pipeline([('vect', stemmed_count_vect),\n",
    "                    ('tfidf', TfidfTransformer()),\n",
    "                    ('log', LogisticRegression(class_weight = \"balanced\"))])\n",
    "\n",
    "text_logr_obama = Pipeline([('vect', stemmed_count_vect),\n",
    "                    ('tfidf', TfidfTransformer()),\n",
    "                    ('log', LogisticRegression(class_weight = \"balanced\"))])"
   ]
  },
  {
   "cell_type": "code",
   "execution_count": 323,
   "metadata": {},
   "outputs": [],
   "source": [
    "text_logr_p = text_logr_p.fit(X_train_p, y_train_p)\n",
    "\n",
    "text_logr_p_trump = text_logr_p_trump.fit(X_train_p_trump, y_train_p_trump)\n",
    "\n",
    "text_logr_p_obama = text_logr_p_obama.fit(X_train_p_obama, y_train_p_obama)\n",
    "\n",
    "text_logr_trump = text_logr_trump.fit(X_train_trump, y_train_trump)\n",
    "\n",
    "text_logr_obama = text_logr_obama.fit(X_train_obama, y_train_obama)"
   ]
  },
  {
   "cell_type": "code",
   "execution_count": 324,
   "metadata": {},
   "outputs": [],
   "source": [
    "y_train_pred_logr_p = cross_val_predict(text_logr_p, X_train_p, y_train_p, cv=3)\n",
    "\n",
    "y_train_pred_logr_p_trump = cross_val_predict(text_logr_p_trump, X_train_p_trump, y_train_p_trump, cv=3)\n",
    "\n",
    "y_train_pred_logr_p_obama = cross_val_predict(text_logr_p_obama, X_train_p_obama, y_train_p_obama, cv=3)\n",
    "\n",
    "y_train_pred_logr_trump = cross_val_predict(text_logr_trump, X_train_trump, y_train_trump, cv=3)\n",
    "\n",
    "y_train_pred_logr_obama = cross_val_predict(text_logr_obama, X_train_obama, y_train_obama, cv=3)"
   ]
  },
  {
   "cell_type": "code",
   "execution_count": 325,
   "metadata": {},
   "outputs": [
    {
     "data": {
      "text/plain": [
       "array([[14332,  2850],\n",
       "       [ 1120,  2154]])"
      ]
     },
     "execution_count": 325,
     "metadata": {},
     "output_type": "execute_result"
    }
   ],
   "source": [
    "confusion_matrix(y_train_p,y_train_pred_logr_p)"
   ]
  },
  {
   "cell_type": "code",
   "execution_count": 303,
   "metadata": {},
   "outputs": [
    {
     "data": {
      "text/plain": [
       "array([[11069,  2028],\n",
       "       [  822,  1629]])"
      ]
     },
     "execution_count": 303,
     "metadata": {},
     "output_type": "execute_result"
    }
   ],
   "source": [
    "confusion_matrix(y_train_p_trump,y_train_pred_logr_p_trump)"
   ]
  },
  {
   "cell_type": "code",
   "execution_count": 304,
   "metadata": {},
   "outputs": [
    {
     "data": {
      "text/plain": [
       "array([[9319, 1967],\n",
       "       [ 829, 1624]])"
      ]
     },
     "execution_count": 304,
     "metadata": {},
     "output_type": "execute_result"
    }
   ],
   "source": [
    "confusion_matrix(y_train_p_obama,y_train_pred_logr_p_obama)"
   ]
  },
  {
   "cell_type": "code",
   "execution_count": 305,
   "metadata": {},
   "outputs": [
    {
     "data": {
      "text/plain": [
       "array([[3379,  498],\n",
       "       [ 326,  552]])"
      ]
     },
     "execution_count": 305,
     "metadata": {},
     "output_type": "execute_result"
    }
   ],
   "source": [
    "confusion_matrix(y_train_trump,y_train_pred_logr_trump)"
   ]
  },
  {
   "cell_type": "code",
   "execution_count": 306,
   "metadata": {},
   "outputs": [
    {
     "data": {
      "text/plain": [
       "array([[2236,  144],\n",
       "       [ 151,  161]])"
      ]
     },
     "execution_count": 306,
     "metadata": {},
     "output_type": "execute_result"
    }
   ],
   "source": [
    "confusion_matrix(y_train_obama,y_train_pred_logr_obama)"
   ]
  },
  {
   "cell_type": "code",
   "execution_count": 326,
   "metadata": {},
   "outputs": [
    {
     "name": "stdout",
     "output_type": "stream",
     "text": [
      "Accuracy Score = 0.80592\n",
      "Precision Score = 0.43046\n",
      "Recall Score = 0.65791\n",
      "F1 Score = 0.52042\n"
     ]
    }
   ],
   "source": [
    "accuracy_precision_recall_F1(y_train_p, y_train_pred_logr_p)"
   ]
  },
  {
   "cell_type": "code",
   "execution_count": 308,
   "metadata": {},
   "outputs": [
    {
     "name": "stdout",
     "output_type": "stream",
     "text": [
      "Accuracy Score = 0.8167\n",
      "Precision Score = 0.44545\n",
      "Recall Score = 0.66463\n",
      "F1 Score = 0.5334\n"
     ]
    }
   ],
   "source": [
    "accuracy_precision_recall_F1(y_train_p_trump, y_train_pred_logr_p_trump)"
   ]
  },
  {
   "cell_type": "code",
   "execution_count": 309,
   "metadata": {},
   "outputs": [
    {
     "name": "stdout",
     "output_type": "stream",
     "text": [
      "Accuracy Score = 0.79649\n",
      "Precision Score = 0.45224\n",
      "Recall Score = 0.66205\n",
      "F1 Score = 0.53739\n"
     ]
    }
   ],
   "source": [
    "accuracy_precision_recall_F1(y_train_p_obama, y_train_pred_logr_p_obama)"
   ]
  },
  {
   "cell_type": "code",
   "execution_count": 310,
   "metadata": {},
   "outputs": [
    {
     "name": "stdout",
     "output_type": "stream",
     "text": [
      "Accuracy Score = 0.82671\n",
      "Precision Score = 0.52571\n",
      "Recall Score = 0.6287\n",
      "F1 Score = 0.57261\n"
     ]
    }
   ],
   "source": [
    "accuracy_precision_recall_F1(y_train_trump, y_train_pred_logr_trump)"
   ]
  },
  {
   "cell_type": "code",
   "execution_count": 311,
   "metadata": {},
   "outputs": [
    {
     "name": "stdout",
     "output_type": "stream",
     "text": [
      "Accuracy Score = 0.89042\n",
      "Precision Score = 0.52787\n",
      "Recall Score = 0.51603\n",
      "F1 Score = 0.52188\n"
     ]
    }
   ],
   "source": [
    "accuracy_precision_recall_F1(y_train_obama, y_train_pred_logr_obama)"
   ]
  },
  {
   "cell_type": "code",
   "execution_count": 327,
   "metadata": {},
   "outputs": [],
   "source": [
    "y_scores_logr_p = cross_val_predict(text_logr_p,\n",
    "                                  X_train_p,\n",
    "                                  y_train_p,\n",
    "                                  cv=3,\n",
    "                                  method=\"decision_function\")\n",
    "\n",
    "y_scores_logr_p_trump = cross_val_predict(text_logr_p_trump,\n",
    "                                  X_train_p_trump,\n",
    "                                  y_train_p_trump,\n",
    "                                  cv=3,\n",
    "                                  method=\"decision_function\")\n",
    "\n",
    "y_scores_logr_p_obama = cross_val_predict(text_logr_p_obama,\n",
    "                                  X_train_p_obama,\n",
    "                                  y_train_p_obama,\n",
    "                                  cv=3,\n",
    "                                  method=\"decision_function\")\n",
    "\n",
    "\n",
    "y_scores_logr_trump = cross_val_predict(text_logr_trump,\n",
    "                                  X_train_trump,\n",
    "                                  y_train_trump,\n",
    "                                  cv=3,\n",
    "                                  method=\"decision_function\")\n",
    "\n",
    "y_scores_logr_obama = cross_val_predict(text_logr_obama,\n",
    "                                  X_train_obama,\n",
    "                                  y_train_obama,\n",
    "                                  cv=3,\n",
    "                                  method=\"decision_function\")"
   ]
  },
  {
   "cell_type": "code",
   "execution_count": 328,
   "metadata": {},
   "outputs": [],
   "source": [
    "precision_logr_p, recall_logr_p, threshold_logr_p = precision_recall_curve(y_train_p,\n",
    "                                                                     y_scores_logr_p)\n",
    "\n",
    "precision_logr_p_trump, recall_logr_p_trump, threshold_logr_p_trump = precision_recall_curve(y_train_p_trump,\n",
    "                                                                     y_scores_logr_p_trump)\n",
    "\n",
    "precision_logr_p_obama, recall_logr_p_obama, threshold_logr_p_obama = precision_recall_curve(y_train_p_obama,\n",
    "                                                                     y_scores_logr_p_obama)\n",
    "\n",
    "precision_logr_trump, recall_logr_trump, threshold_logr_trump = precision_recall_curve(y_train_trump,\n",
    "                                                                     y_scores_logr_trump)\n",
    "\n",
    "precision_logr_obama, recall_logr_obama, threshold_logr_obama = precision_recall_curve(y_train_obama,\n",
    "                                                                     y_scores_logr_obama)"
   ]
  },
  {
   "cell_type": "code",
   "execution_count": 329,
   "metadata": {},
   "outputs": [
    {
     "data": {
      "image/png": "[encoded data removed]",
      "text/plain": [
       "<matplotlib.figure.Figure at 0x1a1e0b2f98>"
      ]
     },
     "metadata": {},
     "output_type": "display_data"
    }
   ],
   "source": [
    "plt.axis([0,1,0,1])\n",
    "plt.xlabel(\"Recall\")\n",
    "plt.ylabel(\"Precision\")\n",
    "\n",
    "plt.plot(recall_logr_p, precision_logr_p,\"m\",linewidth=2,label=\"Logistic Regression - Full NewsAPI\")\n",
    "plt.plot(recall_logr_p_trump, precision_logr_p_trump,\"b\",linewidth=2,label=\"Logistic Regression - Trump NewsAPI\")\n",
    "plt.plot(recall_logr_p_obama, precision_logr_p_obama,\"g\",linewidth=2,label=\"Logistic Regression - Obama NewsAPI\")\n",
    "plt.plot(recall_logr, precision_logr,\"r\",linewidth=2,label=\"Logistic Regression - Original Model\")\n",
    "plt.plot(recall_logr_trump, precision_logr_trump,\"m\",linewidth=2,label=\"Logistic Regression - Trump Filter\")\n",
    "plt.plot(recall_logr_obama, precision_logr_obama,\"c\",linewidth=2,label=\"Logistic Regession - Obama Filter\")\n",
    "\n",
    "\n",
    "plt.legend(loc=\"lower right\")\n",
    "plt.show()"
   ]
  },
  {
   "cell_type": "code",
   "execution_count": 330,
   "metadata": {},
   "outputs": [],
   "source": [
    "fpr_logr_p, tpr_logr_p, thresholds_logr_p = roc_curve(y_train_p, y_scores_logr_p)\n",
    "\n",
    "fpr_logr_p_trump, tpr_logr_p_trump, thresholds_logr_p_trump = roc_curve(y_train_p_trump, y_scores_logr_p_trump)\n",
    "\n",
    "fpr_logr_p_obama, tpr_logr_p_obama, thresholds_logr_p_obama = roc_curve(y_train_p_obama, y_scores_logr_p_obama)\n",
    "\n",
    "fpr_logr_trump, tpr_logr_trump, thresholds_logr_trump = roc_curve(y_train_trump, y_scores_logr_trump)\n",
    "\n",
    "fpr_logr_obama, tpr_logr_obama, thresholds_logr_obama = roc_curve(y_train_obama, y_scores_logr_obama)"
   ]
  },
  {
   "cell_type": "code",
   "execution_count": 340,
   "metadata": {},
   "outputs": [
    {
     "data": {
      "image/png": "[encoded data removed]",
      "text/plain": [
       "<matplotlib.figure.Figure at 0x1a1dfdbf28>"
      ]
     },
     "metadata": {},
     "output_type": "display_data"
    }
   ],
   "source": [
    "plt.axis([0,1,0,1])\n",
    "plt.plot([0,1],[0,1],'k--')\n",
    "\n",
    "plt.xlabel(\"False Positive Rate\")\n",
    "plt.ylabel(\"True Positive Rate\")\n",
    "\n",
    "plt.plot(fpr_logr_swr,tpr_logr_swr,\"r\",linewidth=2,label=\"Logistic Regession - Original Model\")\n",
    "plt.plot(fpr_logr_trump,tpr_logr_trump,\"m\",linewidth=2,label=\"Logistic Regession - Trump Filter\")\n",
    "plt.plot(fpr_logr_obama,tpr_logr_obama,\"c\",linewidth=2,label=\"Logistic Regession - Obama Filter\")\n",
    "plt.plot(fpr_logr_p,tpr_logr_p,\"y\",linewidth=2,label=\"Logistic Regession - Full NewsAPI\")\n",
    "plt.plot(fpr_logr_p_trump,tpr_logr_p_trump,\"k:\",linewidth=2,label=\"Logistic Regession - Trump NewsAPI\")\n",
    "plt.plot(fpr_logr_p_obama,tpr_logr_p_obama,\"g\",linewidth=2,label=\"Logistic Regession - Obama NewsAPI\")\n",
    "\n",
    "\n",
    "plt.legend(loc=\"lower right\")\n",
    "plt.show()"
   ]
  },
  {
   "cell_type": "code",
   "execution_count": 336,
   "metadata": {},
   "outputs": [
    {
     "name": "stdout",
     "output_type": "stream",
     "text": [
      "Logistic Regression - Full Filter - AUC = 0.74602\n",
      "Logistic Regression - Trump NewsAPI - AUC = 0.75489\n",
      "Logistic Regression - Obama NewsAPI - AUC = 0.74388\n",
      "Logistic Regression - Trump Filter - AUC = 0.75013\n",
      "Logistic Regression - Obama Filter - AUC = 0.72776\n"
     ]
    }
   ],
   "source": [
    "print(\"Logistic Regression - Full Filter - AUC = \"+str(round(roc_auc_score(y_train_p,\n",
    "                                                           y_train_pred_logr_p),5)))\n",
    "\n",
    "print(\"Logistic Regression - Trump NewsAPI - AUC = \"+str(round(roc_auc_score(y_train_p_trump,\n",
    "                                                           y_train_pred_logr_p_trump),5)))\n",
    "\n",
    "print(\"Logistic Regression - Obama NewsAPI - AUC = \"+str(round(roc_auc_score(y_train_p_obama,\n",
    "                                                           y_train_pred_logr_p_obama),5)))\n",
    "\n",
    "print(\"Logistic Regression - Trump Filter - AUC = \"+str(round(roc_auc_score(y_train_trump,\n",
    "                                                           y_train_pred_logr_trump),5)))\n",
    "\n",
    "print(\"Logistic Regression - Obama Filter - AUC = \"+str(round(roc_auc_score(y_train_obama,\n",
    "                                                           y_train_pred_logr_obama),5)))"
   ]
  },
  {
   "cell_type": "code",
   "execution_count": null,
   "metadata": {},
   "outputs": [],
   "source": []
  }
 ],
 "metadata": {
  "kernelspec": {
   "display_name": "Python 3",
   "language": "python",
   "name": "python3"
  },
  "language_info": {
   "codemirror_mode": {
    "name": "ipython",
    "version": 3
   },
   "file_extension": ".py",
   "mimetype": "text/x-python",
   "name": "python",
   "nbconvert_exporter": "python",
   "pygments_lexer": "ipython3",
   "version": "3.6.3"
  }
 },
 "nbformat": 4,
 "nbformat_minor": 2
}
